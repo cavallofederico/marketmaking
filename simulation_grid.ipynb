{
 "cells": [
  {
   "cell_type": "markdown",
   "metadata": {},
   "source": [
    "# Simulations"
   ]
  },
  {
   "cell_type": "code",
   "execution_count": 3,
   "metadata": {},
   "outputs": [
    {
     "name": "stdout",
     "output_type": "stream",
     "text": [
      "Parameters(q_max=4, T=60, A=300, dalpha=5, Delta=0.005, epsilon=0.005, psi=0.01, phi_=1e-06, eta_plus=60.0, eta_minus=60.0, sigma=0.01, k=200.0, xi=1.0, lambda_plus=1.0, lambda_minus=1.0, theta=0.1, s0=100, n=20, TICKER='DEFAULT', drift='Yes')\n",
      "Amount of simulations: 10\n",
      "Mean of PNL:0.124999999999801274661458e-08 h                              \n",
      "Stde of PNL:0.13275918047357838\n",
      "Amount of simulations: 10\n",
      "Mean of PNL:0.2204999999998457645648872e-07 h                            \n",
      "Stde of PNL:0.16949115021153074\n",
      "20\n",
      "Parameters(q_max=4, T=60, A=300, dalpha=5, Delta=0.005, epsilon=0.005, psi=0.01, phi_=0.001, eta_plus=60.0, eta_minus=60.0, sigma=0.01, k=200.0, xi=1.0, lambda_plus=1.0, lambda_minus=1.0, theta=0.1, s0=100, n=20, TICKER='DEFAULT', drift='Yes')\n",
      "Amount of simulations: 10\n",
      "Mean of PNL:0.136499999999872784813368e-07 h                             \n",
      "Stde of PNL:0.05050000000001146\n",
      "Amount of simulations: 10\n",
      "Mean of PNL:0.16449999999988280984158e-08 h                               \n",
      "Stde of PNL:0.058840887144943246\n",
      "20\n"
     ]
    }
   ],
   "source": [
    "from simulations import generate_simulations_bunchs\n",
    "from parameters import load_parameters_from_excel, load_simulation_parameters_from_excel\n",
    "import pandas as pd\n",
    "import numpy as np\n",
    "\n",
    "\n",
    "simulations_file_name = \"Simulations_1.xlsx\"\n",
    "simulation_params = load_simulation_parameters_from_excel(file_name=simulations_file_name)\n",
    "for params in simulation_params:\n",
    "    p = load_parameters_from_excel(params['TICKER'])\n",
    "    p.__dict__.update(params)\n",
    "    print(p)\n",
    "    results = generate_simulations_bunchs(p)\n",
    "    p.__dict__[\"pnl\"] = np.average(results['pnl'][:,-1])\n",
    "    p.__dict__[\"std\"] = np.std(results['pnl'][:,-1])\n",
    "    results_file_name = \"Results_\" + simulations_file_name\n",
    "    try:\n",
    "        df = pd.read_excel(results_file_name)\n",
    "    except:\n",
    "        df = pd.DataFrame()\n",
    "    df = pd.concat([df, pd.DataFrame([p.__dict__])]).set_index('TICKER')\n",
    "    df.to_excel(results_file_name)\n"
   ]
  }
 ],
 "metadata": {
  "kernelspec": {
   "display_name": "marketmaking",
   "language": "python",
   "name": "python3"
  },
  "language_info": {
   "codemirror_mode": {
    "name": "ipython",
    "version": 3
   },
   "file_extension": ".py",
   "mimetype": "text/x-python",
   "name": "python",
   "nbconvert_exporter": "python",
   "pygments_lexer": "ipython3",
   "version": "3.11.5"
  },
  "orig_nbformat": 4
 },
 "nbformat": 4,
 "nbformat_minor": 2
}
