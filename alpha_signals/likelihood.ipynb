{
 "cells": [
  {
   "cell_type": "markdown",
   "metadata": {},
   "source": [
    "# Log likelihood calculation"
   ]
  },
  {
   "cell_type": "markdown",
   "metadata": {},
   "source": [
    "$L(\\theta) = -2\\theta T + \\int_0^T ((\\alpha_s)_+ - (\\alpha_s)_-)ds + \\sum_{i=1}^{m+} log [(\\alpha_{t_i}^{+ -})_+ + \\theta] + \\sum_{i=1}^{m+} log [(\\alpha_{t_i}^{- -})_- + \\theta]$\n",
    "\n",
    "$\\alpha_{t^-} = \\eta^+ \\sum_{i=1}^{n+}e^{-k(t-\\tau_i^{0+})}1{t>\\tau_i^{0+}} - \\sum_{i=1}^{n-}e^{-k(t-\\tau_i^{0-})}1{t>\\tau_i^{0-}}$\n",
    "\n",
    "https://docs.scipy.org/doc/scipy/tutorial/optimize.html"
   ]
  },
  {
   "cell_type": "markdown",
   "metadata": {},
   "source": []
  },
  {
   "cell_type": "code",
   "execution_count": 2,
   "metadata": {},
   "outputs": [
    {
     "name": "stdout",
     "output_type": "stream",
     "text": [
      "Optimization terminated successfully.\n",
      "         Current function value: 0.000000\n",
      "         Iterations: 339\n",
      "         Function evaluations: 571\n"
     ]
    }
   ],
   "source": [
    "import numpy as np\n",
    "from scipy.optimize import minimize\n",
    "def rosen(x):\n",
    "    \"\"\"The Rosenbrock function\"\"\"\n",
    "    return sum(100.0*(x[1:]-x[:-1]**2.0)**2.0 + (1-x[:-1])**2.0)\n",
    "x0 = np.array([1.3, 0.7, 0.8, 1.9, 1.2])  # the 4 parameters to optimize\n",
    "res = minimize(rosen, x0, method='nelder-mead',\n",
    "               options={'xatol': 1e-8, 'disp': True})"
   ]
  },
  {
   "cell_type": "code",
   "execution_count": 3,
   "metadata": {},
   "outputs": [
    {
     "data": {
      "text/plain": [
       "       message: Optimization terminated successfully.\n",
       "       success: True\n",
       "        status: 0\n",
       "           fun: 4.861153433422115e-17\n",
       "             x: [ 1.000e+00  1.000e+00  1.000e+00  1.000e+00  1.000e+00]\n",
       "           nit: 339\n",
       "          nfev: 571\n",
       " final_simplex: (array([[ 1.000e+00,  1.000e+00, ...,  1.000e+00,\n",
       "                         1.000e+00],\n",
       "                       [ 1.000e+00,  1.000e+00, ...,  1.000e+00,\n",
       "                         1.000e+00],\n",
       "                       ...,\n",
       "                       [ 1.000e+00,  1.000e+00, ...,  1.000e+00,\n",
       "                         1.000e+00],\n",
       "                       [ 1.000e+00,  1.000e+00, ...,  1.000e+00,\n",
       "                         1.000e+00]]), array([ 4.861e-17,  7.652e-17,  8.114e-17,  8.633e-17,\n",
       "                        8.641e-17,  2.179e-16]))"
      ]
     },
     "execution_count": 3,
     "metadata": {},
     "output_type": "execute_result"
    }
   ],
   "source": [
    "res\n"
   ]
  },
  {
   "cell_type": "code",
   "execution_count": 3,
   "metadata": {},
   "outputs": [
    {
     "name": "stderr",
     "output_type": "stream",
     "text": [
      "/var/folders/rr/nsd1p9hx6hs_81m8swcypvkc0000gn/T/ipykernel_92448/1025083622.py:14: RuntimeWarning: Maximum number of function evaluations has been exceeded.\n",
      "  res = minimize(m.likelihood_to_minimize, x0, method='nelder-mead',\n"
     ]
    },
    {
     "data": {
      "text/plain": [
       "       message: Maximum number of function evaluations has been exceeded.\n",
       "       success: False\n",
       "        status: 1\n",
       "           fun: -9.762244064601471e+24\n",
       "             x: [ 1.288e+02  7.611e+27 -1.485e+28  1.925e+28]\n",
       "           nit: 476\n",
       "          nfev: 800\n",
       " final_simplex: (array([[ 1.288e+02,  7.611e+27, -1.485e+28,  1.925e+28],\n",
       "                       [ 1.471e+02,  5.337e+27, -1.041e+28,  1.350e+28],\n",
       "                       ...,\n",
       "                       [ 1.745e+02,  3.856e+27, -7.524e+27,  9.753e+27],\n",
       "                       [ 1.874e+02,  2.957e+27, -5.770e+27,  7.479e+27]]), array([-9.762e+24, -6.637e+24, -5.238e+24, -4.572e+24,\n",
       "                       -3.426e+24]))"
      ]
     },
     "execution_count": 3,
     "metadata": {},
     "output_type": "execute_result"
    }
   ],
   "source": [
    "import numpy as np\n",
    "from scipy.optimize import minimize\n",
    "from likelihood import MaximumLikelihood\n",
    "\n",
    "T = 0.001\n",
    "tau_0_plus = np.array([[0.1, 0.3, 0.5, 0.7, 0.9]]) * T\n",
    "tau_0_minus = np.array([[0.2, 0.4, 0.6]]) * T\n",
    "t_plus = np.array([[0.11, 0.31, 0.51, 0.71, 0.91]]) * T\n",
    "t_minus = np.array([[0.21, 0.41, 0.61]]) * T\n",
    "\n",
    "m = MaximumLikelihood(T, tau_0_plus, tau_0_minus, t_plus, t_minus)\n",
    "\n",
    "x0 = np.array([1.3, 0.7, 0.8, 1.9])  # the 4 parameters to optimize\n",
    "res = minimize(m.likelihood_to_minimize, x0, method='nelder-mead',\n",
    "               options={'xatol': 1e-8, 'disp': True})\n",
    "res"
   ]
  },
  {
   "cell_type": "markdown",
   "metadata": {},
   "source": [
    "## Calculating integral of alpha_s"
   ]
  },
  {
   "cell_type": "code",
   "execution_count": 5,
   "metadata": {},
   "outputs": [
    {
     "name": "stdout",
     "output_type": "stream",
     "text": [
      "[[  0.   1.   2.   3.   4.   5.   6.   7.   9.  10.]\n",
      " [  0. 100. -90. 100. -90. 100. -90. 100. 100.   0.]]\n"
     ]
    }
   ],
   "source": [
    "T=10\n",
    "tau_0_plus = np.array([[0.1, 0.3, 0.5,0.7,0.9]]) * T\n",
    "tau_0_minus = np.array([[0.2, 0.4, 0.6]])*T\n",
    "tau_0 = np.concatenate(\n",
    "    [np.zeros([1,1]), tau_0_minus, tau_0_plus, np.ones([1,1]) * T], axis=1\n",
    ")\n",
    "\n",
    "eta_plus = 100\n",
    "eta_minus = 90\n",
    "k = 200\n",
    "eta_minus_vector = -np.ones([tau_0_minus.shape[1], 1]) * eta_minus\n",
    "eta_plus_vector = np.ones([tau_0_plus.shape[1], 1]) * eta_plus\n",
    "eta_vector = np.concatenate(\n",
    "    [np.zeros([1,1]), eta_minus_vector, eta_plus_vector, np.zeros([1,1])], axis=0\n",
    ").T\n",
    "tau_eta = np.concatenate([tau_0, eta_vector])\n",
    "result = eta_vector.T * np.ones([1, tau_0.shape[1]])\n",
    "\n",
    "#tau_0.sort()\n",
    "tau_eta = tau_eta[:,tau_eta[0, :].argsort()]\n",
    "tau_0 = tau_eta[:,tau_eta[0, :].argsort()][0:1,:]\n",
    "eta_0 = tau_eta[:,tau_eta[0, :].argsort()][1:2,:]\n",
    "#print(result.T)\n",
    "print(tau_eta)\n"
   ]
  },
  {
   "cell_type": "code",
   "execution_count": 6,
   "metadata": {},
   "outputs": [
    {
     "data": {
      "text/plain": [
       "array([[ 0.,  1.,  2.,  3.,  4.,  5.,  6.,  7.,  9., 10.],\n",
       "       [ 0.,  1.,  2.,  3.,  4.,  5.,  6.,  7.,  9., 10.],\n",
       "       [ 0.,  1.,  2.,  3.,  4.,  5.,  6.,  7.,  9., 10.],\n",
       "       [ 0.,  1.,  2.,  3.,  4.,  5.,  6.,  7.,  9., 10.],\n",
       "       [ 0.,  1.,  2.,  3.,  4.,  5.,  6.,  7.,  9., 10.],\n",
       "       [ 0.,  1.,  2.,  3.,  4.,  5.,  6.,  7.,  9., 10.],\n",
       "       [ 0.,  1.,  2.,  3.,  4.,  5.,  6.,  7.,  9., 10.],\n",
       "       [ 0.,  1.,  2.,  3.,  4.,  5.,  6.,  7.,  9., 10.],\n",
       "       [ 0.,  1.,  2.,  3.,  4.,  5.,  6.,  7.,  9., 10.],\n",
       "       [ 0.,  1.,  2.,  3.,  4.,  5.,  6.,  7.,  9., 10.]])"
      ]
     },
     "execution_count": 6,
     "metadata": {},
     "output_type": "execute_result"
    }
   ],
   "source": [
    "np.exp(-k*tau_0_plus)\n",
    "tau_matrix = tau_0 * np.ones([1, tau_0.shape[1]]).T\n",
    "tau_matrix"
   ]
  },
  {
   "cell_type": "code",
   "execution_count": 7,
   "metadata": {},
   "outputs": [
    {
     "data": {
      "text/plain": [
       "array([[  0., 100., -90., 100., -90., 100., -90., 100., 100.,   0.],\n",
       "       [  0., 100., -90., 100., -90., 100., -90., 100., 100.,   0.],\n",
       "       [  0., 100., -90., 100., -90., 100., -90., 100., 100.,   0.],\n",
       "       [  0., 100., -90., 100., -90., 100., -90., 100., 100.,   0.],\n",
       "       [  0., 100., -90., 100., -90., 100., -90., 100., 100.,   0.],\n",
       "       [  0., 100., -90., 100., -90., 100., -90., 100., 100.,   0.],\n",
       "       [  0., 100., -90., 100., -90., 100., -90., 100., 100.,   0.],\n",
       "       [  0., 100., -90., 100., -90., 100., -90., 100., 100.,   0.],\n",
       "       [  0., 100., -90., 100., -90., 100., -90., 100., 100.,   0.],\n",
       "       [  0., 100., -90., 100., -90., 100., -90., 100., 100.,   0.]])"
      ]
     },
     "execution_count": 7,
     "metadata": {},
     "output_type": "execute_result"
    }
   ],
   "source": [
    "np.exp(-k*tau_0_plus)\n",
    "eta_matrix = eta_0 * np.ones([1, eta_0.shape[1]]).T\n",
    "eta_matrix"
   ]
  },
  {
   "cell_type": "code",
   "execution_count": 8,
   "metadata": {},
   "outputs": [
    {
     "data": {
      "text/plain": [
       "array([[ 1.,  2.,  3.,  4.,  5.,  6.,  7.,  9., 10.,  0.],\n",
       "       [ 1.,  2.,  3.,  4.,  5.,  6.,  7.,  9., 10.,  0.],\n",
       "       [ 1.,  2.,  3.,  4.,  5.,  6.,  7.,  9., 10.,  0.],\n",
       "       [ 1.,  2.,  3.,  4.,  5.,  6.,  7.,  9., 10.,  0.],\n",
       "       [ 1.,  2.,  3.,  4.,  5.,  6.,  7.,  9., 10.,  0.],\n",
       "       [ 1.,  2.,  3.,  4.,  5.,  6.,  7.,  9., 10.,  0.],\n",
       "       [ 1.,  2.,  3.,  4.,  5.,  6.,  7.,  9., 10.,  0.],\n",
       "       [ 1.,  2.,  3.,  4.,  5.,  6.,  7.,  9., 10.,  0.],\n",
       "       [ 1.,  2.,  3.,  4.,  5.,  6.,  7.,  9., 10.,  0.],\n",
       "       [ 1.,  2.,  3.,  4.,  5.,  6.,  7.,  9., 10.,  0.]])"
      ]
     },
     "execution_count": 8,
     "metadata": {},
     "output_type": "execute_result"
    }
   ],
   "source": [
    "tau_matrix_1 = np.roll(tau_matrix,-1) # numero de fila es j, numero de columna es i\n",
    "tau_matrix_1"
   ]
  },
  {
   "cell_type": "code",
   "execution_count": 9,
   "metadata": {},
   "outputs": [
    {
     "data": {
      "text/plain": [
       "array([[  0.,   1.,   2.,   3.,   4.,   5.,   6.,   7.,   9.,  10.],\n",
       "       [ -1.,   0.,   1.,   2.,   3.,   4.,   5.,   6.,   8.,   9.],\n",
       "       [ -2.,  -1.,   0.,   1.,   2.,   3.,   4.,   5.,   7.,   8.],\n",
       "       [ -3.,  -2.,  -1.,   0.,   1.,   2.,   3.,   4.,   6.,   7.],\n",
       "       [ -4.,  -3.,  -2.,  -1.,   0.,   1.,   2.,   3.,   5.,   6.],\n",
       "       [ -5.,  -4.,  -3.,  -2.,  -1.,   0.,   1.,   2.,   4.,   5.],\n",
       "       [ -6.,  -5.,  -4.,  -3.,  -2.,  -1.,   0.,   1.,   3.,   4.],\n",
       "       [ -7.,  -6.,  -5.,  -4.,  -3.,  -2.,  -1.,   0.,   2.,   3.],\n",
       "       [ -9.,  -8.,  -7.,  -6.,  -5.,  -4.,  -3.,  -2.,   0.,   1.],\n",
       "       [-10.,  -9.,  -8.,  -7.,  -6.,  -5.,  -4.,  -3.,  -1.,   0.]])"
      ]
     },
     "execution_count": 9,
     "metadata": {},
     "output_type": "execute_result"
    }
   ],
   "source": [
    "tau_matrix_diff = tau_matrix - tau_matrix.T\n",
    "tau_matrix_diff"
   ]
  },
  {
   "cell_type": "code",
   "execution_count": 10,
   "metadata": {},
   "outputs": [
    {
     "data": {
      "text/plain": [
       "array([[  0.,   1.,   2.,   3.,   4.,   5.,   6.,   7.,   9.,  10.],\n",
       "       [ -1.,   0.,   1.,   2.,   3.,   4.,   5.,   6.,   8.,   9.],\n",
       "       [ -2.,  -1.,   0.,   1.,   2.,   3.,   4.,   5.,   7.,   8.],\n",
       "       [ -3.,  -2.,  -1.,   0.,   1.,   2.,   3.,   4.,   6.,   7.],\n",
       "       [ -4.,  -3.,  -2.,  -1.,   0.,   1.,   2.,   3.,   5.,   6.],\n",
       "       [ -5.,  -4.,  -3.,  -2.,  -1.,   0.,   1.,   2.,   4.,   5.],\n",
       "       [ -6.,  -5.,  -4.,  -3.,  -2.,  -1.,   0.,   1.,   3.,   4.],\n",
       "       [ -7.,  -6.,  -5.,  -4.,  -3.,  -2.,  -1.,   0.,   2.,   3.],\n",
       "       [ -9.,  -8.,  -7.,  -6.,  -5.,  -4.,  -3.,  -2.,   0.,   1.],\n",
       "       [-10.,  -9.,  -8.,  -7.,  -6.,  -5.,  -4.,  -3.,  -1.,   0.]])"
      ]
     },
     "execution_count": 10,
     "metadata": {},
     "output_type": "execute_result"
    }
   ],
   "source": [
    "tau_matrix_diff"
   ]
  },
  {
   "cell_type": "code",
   "execution_count": 11,
   "metadata": {},
   "outputs": [
    {
     "data": {
      "text/plain": [
       "array([[ 0.,  1.,  2.,  3.,  4.,  5.,  6.,  7.,  9., 10.],\n",
       "       [ 0.,  0.,  1.,  2.,  3.,  4.,  5.,  6.,  8.,  9.],\n",
       "       [ 0.,  0.,  0.,  1.,  2.,  3.,  4.,  5.,  7.,  8.],\n",
       "       [ 0.,  0.,  0.,  0.,  1.,  2.,  3.,  4.,  6.,  7.],\n",
       "       [ 0.,  0.,  0.,  0.,  0.,  1.,  2.,  3.,  5.,  6.],\n",
       "       [ 0.,  0.,  0.,  0.,  0.,  0.,  1.,  2.,  4.,  5.],\n",
       "       [ 0.,  0.,  0.,  0.,  0.,  0.,  0.,  1.,  3.,  4.],\n",
       "       [ 0.,  0.,  0.,  0.,  0.,  0.,  0.,  0.,  2.,  3.],\n",
       "       [ 0.,  0.,  0.,  0.,  0.,  0.,  0.,  0.,  0.,  1.],\n",
       "       [ 0.,  0.,  0.,  0.,  0.,  0.,  0.,  0.,  0.,  0.]])"
      ]
     },
     "execution_count": 11,
     "metadata": {},
     "output_type": "execute_result"
    }
   ],
   "source": [
    "tau_matrix_diff = np.where(tau_matrix_diff>0, tau_matrix_diff, 0)\n",
    "tau_matrix_diff"
   ]
  },
  {
   "cell_type": "code",
   "execution_count": 12,
   "metadata": {},
   "outputs": [
    {
     "name": "stdout",
     "output_type": "stream",
     "text": [
      "[[1 2 3 3]\n",
      " [4 5 6 6]]\n"
     ]
    },
    {
     "data": {
      "text/plain": [
       "array([5, 7, 9, 9])"
      ]
     },
     "execution_count": 12,
     "metadata": {},
     "output_type": "execute_result"
    }
   ],
   "source": [
    "arr = np.array([[1,2,3,3],[4,5,6,6]])\n",
    "print(arr)\n",
    "np.sum(arr, axis=0)"
   ]
  },
  {
   "cell_type": "code",
   "execution_count": 13,
   "metadata": {},
   "outputs": [
    {
     "data": {
      "text/plain": [
       "array([[ 1.,  2.,  3.,  4.,  5.,  6.,  7.,  9., 10.,  0.],\n",
       "       [ 0.,  1.,  2.,  3.,  4.,  5.,  6.,  8.,  9.,  0.],\n",
       "       [ 0.,  0.,  1.,  2.,  3.,  4.,  5.,  7.,  8.,  0.],\n",
       "       [ 0.,  0.,  0.,  1.,  2.,  3.,  4.,  6.,  7.,  0.],\n",
       "       [ 0.,  0.,  0.,  0.,  1.,  2.,  3.,  5.,  6.,  0.],\n",
       "       [ 0.,  0.,  0.,  0.,  0.,  1.,  2.,  4.,  5.,  0.],\n",
       "       [ 0.,  0.,  0.,  0.,  0.,  0.,  1.,  3.,  4.,  0.],\n",
       "       [ 0.,  0.,  0.,  0.,  0.,  0.,  0.,  2.,  3.,  0.],\n",
       "       [ 0.,  0.,  0.,  0.,  0.,  0.,  0.,  0.,  1.,  0.],\n",
       "       [ 0.,  0.,  0.,  0.,  0.,  0.,  0.,  0.,  0.,  0.]])"
      ]
     },
     "execution_count": 13,
     "metadata": {},
     "output_type": "execute_result"
    }
   ],
   "source": [
    "tau_matrix_diff_1 = tau_matrix_1 - tau_matrix.T\n",
    "tau_matrix_diff_1 = np.where(tau_matrix_diff_1>0, tau_matrix_diff_1, 0)\n",
    "tau_matrix_diff_1\n"
   ]
  },
  {
   "cell_type": "code",
   "execution_count": 14,
   "metadata": {},
   "outputs": [
    {
     "data": {
      "text/plain": [
       "array([[-0.00000000e+000, -1.38389653e-085,  1.72365264e-172,\n",
       "        -2.65039655e-259, -0.00000000e+000,  0.00000000e+000,\n",
       "        -0.00000000e+000,  0.00000000e+000,  0.00000000e+000,\n",
       "         0.00000000e+000],\n",
       "       [ 0.00000000e+000, -1.00000000e+002,  1.24550687e-085,\n",
       "        -1.91516960e-172,  2.38535690e-259,  0.00000000e+000,\n",
       "        -0.00000000e+000,  0.00000000e+000,  0.00000000e+000,\n",
       "         0.00000000e+000],\n",
       "       [ 0.00000000e+000,  0.00000000e+000,  9.00000000e+001,\n",
       "        -1.38389653e-085,  1.72365264e-172, -2.65039655e-259,\n",
       "        -0.00000000e+000,  0.00000000e+000,  0.00000000e+000,\n",
       "         0.00000000e+000],\n",
       "       [ 0.00000000e+000,  0.00000000e+000, -0.00000000e+000,\n",
       "        -1.00000000e+002,  1.24550687e-085, -1.91516960e-172,\n",
       "         2.38535690e-259,  0.00000000e+000,  0.00000000e+000,\n",
       "         0.00000000e+000],\n",
       "       [ 0.00000000e+000,  0.00000000e+000, -0.00000000e+000,\n",
       "         0.00000000e+000,  9.00000000e+001, -1.38389653e-085,\n",
       "         1.72365264e-172, -2.65039655e-259,  0.00000000e+000,\n",
       "         0.00000000e+000],\n",
       "       [ 0.00000000e+000,  0.00000000e+000, -0.00000000e+000,\n",
       "         0.00000000e+000, -0.00000000e+000, -1.00000000e+002,\n",
       "         1.24550687e-085, -1.91516960e-172,  0.00000000e+000,\n",
       "         0.00000000e+000],\n",
       "       [ 0.00000000e+000,  0.00000000e+000, -0.00000000e+000,\n",
       "         0.00000000e+000, -0.00000000e+000,  0.00000000e+000,\n",
       "         9.00000000e+001, -1.38389653e-085, -2.65039655e-259,\n",
       "         0.00000000e+000],\n",
       "       [ 0.00000000e+000,  0.00000000e+000, -0.00000000e+000,\n",
       "         0.00000000e+000, -0.00000000e+000,  0.00000000e+000,\n",
       "        -0.00000000e+000, -1.00000000e+002, -1.91516960e-172,\n",
       "         0.00000000e+000],\n",
       "       [ 0.00000000e+000,  0.00000000e+000, -0.00000000e+000,\n",
       "         0.00000000e+000, -0.00000000e+000,  0.00000000e+000,\n",
       "        -0.00000000e+000,  0.00000000e+000, -1.00000000e+002,\n",
       "         0.00000000e+000],\n",
       "       [ 0.00000000e+000,  0.00000000e+000, -0.00000000e+000,\n",
       "         0.00000000e+000, -0.00000000e+000,  0.00000000e+000,\n",
       "        -0.00000000e+000,  0.00000000e+000,  0.00000000e+000,\n",
       "         0.00000000e+000]])"
      ]
     },
     "execution_count": 14,
     "metadata": {},
     "output_type": "execute_result"
    }
   ],
   "source": [
    "tau_matrix_diff = tau_matrix - tau_matrix.T\n",
    "tau_matrix_diff = np.where(tau_matrix_diff>0, tau_matrix_diff, 0)\n",
    "\n",
    "tau_matrix_diff_1 = tau_matrix_1 - tau_matrix.T\n",
    "tau_matrix_diff_1 = np.where(tau_matrix_diff_1>0, tau_matrix_diff_1, 0)\n",
    "\n",
    "alpha_tau_matrix = eta_matrix * (np.exp(\n",
    "    -k * tau_matrix_diff_1\n",
    ") - np.exp(-k * tau_matrix_diff))\n",
    "\n",
    "alpha_tau_matrix"
   ]
  },
  {
   "cell_type": "code",
   "execution_count": 15,
   "metadata": {},
   "outputs": [
    {
     "data": {
      "text/plain": [
       "array([   0., -100.,   90., -100.,   90., -100.,   90., -100., -100.,\n",
       "          0.])"
      ]
     },
     "execution_count": 15,
     "metadata": {},
     "output_type": "execute_result"
    }
   ],
   "source": [
    "alpha_tau = np.sum(alpha_tau_matrix, axis=0)\n",
    "alpha_tau"
   ]
  },
  {
   "cell_type": "markdown",
   "metadata": {},
   "source": [
    "Alpha tau should be possitive. I don't know why are they using - 1/k. May be I should modifty it to be possitive inverting the simbols"
   ]
  },
  {
   "cell_type": "code",
   "execution_count": 16,
   "metadata": {},
   "outputs": [
    {
     "data": {
      "text/plain": [
       "-1.35"
      ]
     },
     "execution_count": 16,
     "metadata": {},
     "output_type": "execute_result"
    }
   ],
   "source": [
    "alpha_s_plus = np.sum(-np.where(alpha_tau>=0,alpha_tau, 0)/k)\n",
    "alpha_s_plus "
   ]
  },
  {
   "cell_type": "code",
   "execution_count": 17,
   "metadata": {},
   "outputs": [
    {
     "data": {
      "text/plain": [
       "-2.5"
      ]
     },
     "execution_count": 17,
     "metadata": {},
     "output_type": "execute_result"
    }
   ],
   "source": [
    "alpha_s_minus = np.sum(np.where(alpha_tau<=0,alpha_tau, 0)/k)\n",
    "alpha_s_minus"
   ]
  },
  {
   "cell_type": "code",
   "execution_count": 18,
   "metadata": {},
   "outputs": [
    {
     "data": {
      "text/plain": [
       "1.15"
      ]
     },
     "execution_count": 18,
     "metadata": {},
     "output_type": "execute_result"
    }
   ],
   "source": [
    "integral_alpha_s = alpha_s_plus - alpha_s_minus\n",
    "integral_alpha_s\n"
   ]
  },
  {
   "cell_type": "markdown",
   "metadata": {},
   "source": [
    "## Calculating sum log alpha t_i"
   ]
  },
  {
   "cell_type": "code",
   "execution_count": 25,
   "metadata": {},
   "outputs": [
    {
     "data": {
      "text/plain": [
       "18.995638800241302"
      ]
     },
     "execution_count": 25,
     "metadata": {},
     "output_type": "execute_result"
    }
   ],
   "source": [
    "import numpy as np\n",
    "T=10\n",
    "tau_0_plus = np.array([[0.1, 0.3, 0.5,0.7,0.9]]) * T\n",
    "tau_0_minus = np.array([[0.2, 0.4, 0.6]])*T\n",
    "t_plus = np.array([[0.11, 0.31, 0.51, 0.71, 0.91]]) * T\n",
    "t_minus = np.array([[0.21, 0.41, 0.61]]) * T\n",
    "eta_plus = 100\n",
    "eta_minus = 90\n",
    "k = 200\n",
    "theta = 1\n",
    "\n",
    "tau_0 = np.concatenate(\n",
    "    [\n",
    "        tau_0_minus,\n",
    "        tau_0_plus,\n",
    "    ],\n",
    "    axis=1,\n",
    ")\n",
    "\n",
    "eta_minus_vector = -np.ones([tau_0_minus.shape[1], 1]) * eta_minus\n",
    "eta_plus_vector = np.ones([tau_0_plus.shape[1], 1]) * eta_plus\n",
    "eta_vector = np.concatenate([eta_minus_vector, eta_plus_vector], axis=0).T\n",
    "tau_eta = np.concatenate([tau_0, eta_vector])\n",
    "tau_eta = tau_eta[:, tau_eta[0, :].argsort()]\n",
    "tau_0 = tau_eta[:, tau_eta[0, :].argsort()][0:1, :]\n",
    "eta_0 = tau_eta[:, tau_eta[0, :].argsort()][1:2, :]\n",
    "\n",
    "tau_matrix = tau_0 * np.ones([1, t_plus.shape[1]]).T\n",
    "eta_matrix = eta_0 * np.ones([1, t_plus.shape[1]]).T\n",
    "t_plus_matrix = t_plus.T * np.ones([1, tau_0.shape[1]])  # numero de fila es t, numero de columna es tau\n",
    "\n",
    "tau_matrix_diff = t_plus_matrix - tau_matrix \n",
    "tau_matrix_diff = np.where(tau_matrix_diff > 0, tau_matrix_diff, 0)\n",
    "\n",
    "alpha_tau_matrix = eta_matrix * (np.exp(-k * tau_matrix_diff))\n",
    "alpha_tau = np.sum(alpha_tau_matrix, axis=1)\n",
    "# The signs seem to be wrong in the paper, keeping them anyway\n",
    "sum_log_alpha_plus = np.sum(np.log(np.where(alpha_tau >= 0, alpha_tau, 0) + theta))\n",
    "sum_log_alpha_plus"
   ]
  },
  {
   "cell_type": "code",
   "execution_count": 24,
   "metadata": {},
   "outputs": [
    {
     "data": {
      "text/plain": [
       "18.995638800241302"
      ]
     },
     "execution_count": 24,
     "metadata": {},
     "output_type": "execute_result"
    }
   ],
   "source": []
  },
  {
   "cell_type": "code",
   "execution_count": 22,
   "metadata": {},
   "outputs": [
    {
     "data": {
      "text/plain": [
       "0.0"
      ]
     },
     "execution_count": 22,
     "metadata": {},
     "output_type": "execute_result"
    }
   ],
   "source": [
    "np.log(1)"
   ]
  },
  {
   "cell_type": "code",
   "execution_count": 23,
   "metadata": {},
   "outputs": [
    {
     "data": {
      "text/plain": [
       "array([1.30000000e+02, 1.20000000e+02, 1.10000000e+02, 1.00000000e+02,\n",
       "       2.06115362e-07])"
      ]
     },
     "execution_count": 23,
     "metadata": {},
     "output_type": "execute_result"
    }
   ],
   "source": []
  },
  {
   "cell_type": "markdown",
   "metadata": {},
   "source": [
    "## Generating simulation data to estimate parameters\n"
   ]
  },
  {
   "cell_type": "code",
   "execution_count": 2,
   "metadata": {},
   "outputs": [
    {
     "name": "stdout",
     "output_type": "stream",
     "text": [
      "Parameters(q_max=4, T=60, A=300, dalpha=30, Delta=0.005, epsilon=0.005, psi=0.01, phi_=1e-06, eta_plus=60.0, eta_minus=60.0, sigma=0.01, k=200.0, xi=1.0, lambda_plus=1.0, lambda_minus=1.0, theta=0.1, s0=100, n=200, drift=True)\n",
      "Calculating h\n",
      "Starting h calculation\n",
      "0.0004995003608890108\n",
      "120120\n",
      "Starting to calculate h\n",
      "Finished calculating h0.0 h                          3e-07 h                           \n",
      "Amount of simulations: 200\n",
      "Mean of PNL:0.2342749999998560285199e-07 h                              \n",
      "Stde of PNL:0.18778471549898396\n",
      "500\n"
     ]
    }
   ],
   "source": [
    "from simulations import generate_simulations_bunchs\n",
    "from parameters import Parameters, base_simulation_parameters_dict\n",
    "import pandas as pd\n",
    "import numpy as np\n",
    "\n",
    "\n",
    "p = Parameters(**base_simulation_parameters_dict)\n",
    "p.dalpha = 30\n",
    "print(p)\n",
    "results = generate_simulations_bunchs(p)\n"
   ]
  },
  {
   "cell_type": "code",
   "execution_count": 3,
   "metadata": {},
   "outputs": [
    {
     "data": {
      "text/plain": [
       "0.0004995003608890108"
      ]
     },
     "execution_count": 3,
     "metadata": {},
     "output_type": "execute_result"
    }
   ],
   "source": [
    "results[\"dMt_minus\"]\n",
    "results[\"dMt_plus\"]\n",
    "results[\"s\"]\n",
    "p.dt\n"
   ]
  },
  {
   "cell_type": "code",
   "execution_count": 23,
   "metadata": {},
   "outputs": [
    {
     "name": "stdout",
     "output_type": "stream",
     "text": [
      "Tau minus  [ 2.94255663  3.35564342  4.47452423  5.537461    8.70928829  8.91508244\n",
      "  9.15983762  9.85813912 10.44205504 10.70079623 10.80469231 10.88011686\n",
      " 11.50249431 11.64635041 11.91707961 13.9750211  15.87062497 16.28121426\n",
      " 16.60039499 17.93555946 19.10938531 20.01997446 21.53495906 21.63086313\n",
      " 22.05094293 25.7457471  29.26822365 29.79269903 31.35014115 31.49699426\n",
      " 32.17281824 32.29269833 33.93455602 34.16432618 35.91007995 36.86012963\n",
      " 37.31017946 37.65783171 38.01447497 38.72326598 40.82316549 41.00848013\n",
      " 41.37561289 43.21527272 47.57041637 48.08240424 48.80618026 51.19179399\n",
      " 55.39608852 55.9225619  56.75822601 57.31566841]\n",
      "Tau plus  [ 0.19730264  0.81618359  1.72677275  2.19730209  3.22327583  3.94455435\n",
      "  6.57442375  6.67432382  8.91757994  9.86113612 10.05344376 12.25873786\n",
      " 13.142354   14.16732874 15.0799159  16.16832718 16.66133404 19.25973492\n",
      " 19.96153292 20.33465969 21.42107298 24.31667657 27.37811428 27.4035888\n",
      " 29.44904278 29.56043136 29.8975941  31.76622495 32.68130961 33.00098984\n",
      " 35.8506394  35.93455546 36.5344554  36.80868109 37.15283684 37.85563385\n",
      " 38.22326612 38.42206726 38.57841087 39.20628283 39.48550353 39.85163729\n",
      " 40.15433451 41.61837007 43.86462319 44.36162605 44.50748016 45.83015711\n",
      " 51.40807764 51.71926637 52.16132419 53.15682841]\n"
     ]
    }
   ],
   "source": [
    "tau_plus = (np.array(np.where(results[\"m_executions_count\"][1,:-1]))*p.dt)[0]\n",
    "tau_minus = (np.array(np.where(results[\"p_executions_count\"][1,:-1]))*p.dt)[0]\n",
    "\n",
    "print(\"Tau minus \", tau_minus)\n",
    "print(\"Tau plus \", tau_plus)"
   ]
  },
  {
   "cell_type": "code",
   "execution_count": 20,
   "metadata": {},
   "outputs": [
    {
     "name": "stdout",
     "output_type": "stream",
     "text": [
      "t_plus [ 0.         10.31218495 18.38011478 ... 43.7367511  44.38760007\n",
      " 46.68380323]\n",
      "t_minus [ 1.09190779  1.85814134  6.91308499 ... 53.6967883  54.23774719\n",
      " 56.78270153]\n",
      "s_jumps [[ 0.06  0.    0.   ...  0.    0.    0.  ]\n",
      " [ 0.14  0.    0.   ...  0.    0.    0.  ]\n",
      " [ 0.12  0.    0.   ...  0.    0.    0.  ]\n",
      " ...\n",
      " [-0.08  0.    0.   ...  0.    0.    0.  ]\n",
      " [ 0.03  0.    0.   ...  0.    0.    0.  ]\n",
      " [ 0.    0.    0.   ...  0.    0.    0.  ]]\n"
     ]
    }
   ],
   "source": [
    "s_jumps = results['s']-np.roll(results['s'],1)\n",
    "t_plus = (np.array(np.where(s_jumps>0)) * p.dt)[1]\n",
    "t_minus = (np.array(np.where(s_jumps<0)) * p.dt)[1]\n",
    "print(\"t_plus\", t_plus)\n",
    "print(\"t_minus\", t_minus)\n",
    "print(\"s_jumps\", s_jumps)"
   ]
  },
  {
   "cell_type": "code",
   "execution_count": null,
   "metadata": {},
   "outputs": [],
   "source": [
    "import numpy as np\n",
    "from scipy.optimize import minimize\n",
    "from likelihood import MaximumLikelihood\n",
    "\n",
    "tau_0_plus = tau_plus\n",
    "tau_0_minus = tau_minus\n",
    "\n",
    "m = MaximumLikelihood(\n",
    "    p.T,\n",
    "    tau_plus[0,:],\n",
    "    tau_minus[0,:],\n",
    "    t_plus,\n",
    "    t_minus\n",
    ")\n",
    "\n",
    "x0 = np.array([1.3, 0.7, 0.8, 1.9])  # the 4 parameters to optimize\n",
    "res = minimize(m.likelihood_to_minimize, x0, method='nelder-mead',\n",
    "               options={'xatol': 1e-8, 'disp': True})"
   ]
  }
 ],
 "metadata": {
  "kernelspec": {
   "display_name": "marketmaking",
   "language": "python",
   "name": "python3"
  },
  "language_info": {
   "codemirror_mode": {
    "name": "ipython",
    "version": 3
   },
   "file_extension": ".py",
   "mimetype": "text/x-python",
   "name": "python",
   "nbconvert_exporter": "python",
   "pygments_lexer": "ipython3",
   "version": "3.11.5"
  },
  "orig_nbformat": 4
 },
 "nbformat": 4,
 "nbformat_minor": 2
}
