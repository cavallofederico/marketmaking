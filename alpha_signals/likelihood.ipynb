{
 "cells": [
  {
   "cell_type": "markdown",
   "metadata": {},
   "source": [
    "# Log likelihood calculation"
   ]
  },
  {
   "cell_type": "markdown",
   "metadata": {},
   "source": [
    "$L(\\theta) = -2\\theta T + \\int_0^T ((\\alpha_s)_+ - (\\alpha_s)_-)ds + \\sum_{i=1}^{m+} log [(\\alpha_{t_i}^{+ -})_+ + \\theta] + \\sum_{i=1}^{m+} log [(\\alpha_{t_i}^{- -})_- + \\theta]$\n",
    "\n",
    "$\\alpha_{t^-} = \\eta^+ \\sum_{i=1}^{n+}e^{-k(t-\\tau_i^{0+})}1{t>\\tau_i^{0+}} - \\sum_{i=1}^{n-}e^{-k(t-\\tau_i^{0-})}1{t>\\tau_i^{0-}}$\n",
    "\n",
    "https://docs.scipy.org/doc/scipy/tutorial/optimize.html"
   ]
  },
  {
   "cell_type": "markdown",
   "metadata": {},
   "source": []
  },
  {
   "cell_type": "code",
   "execution_count": 133,
   "metadata": {},
   "outputs": [
    {
     "name": "stdout",
     "output_type": "stream",
     "text": [
      "Optimization terminated successfully.\n",
      "         Current function value: 0.000000\n",
      "         Iterations: 339\n",
      "         Function evaluations: 571\n"
     ]
    }
   ],
   "source": [
    "import numpy as np\n",
    "from scipy.optimize import minimize\n",
    "def rosen(x):\n",
    "    \"\"\"The Rosenbrock function\"\"\"\n",
    "    return sum(100.0*(x[1:]-x[:-1]**2.0)**2.0 + (1-x[:-1])**2.0)\n",
    "x0 = np.array([1.3, 0.7, 0.8, 1.9, 1.2])  # the 4 parameters to optimize\n",
    "res = minimize(rosen, x0, method='nelder-mead',\n",
    "               options={'xatol': 1e-8, 'disp': True})"
   ]
  },
  {
   "cell_type": "code",
   "execution_count": 134,
   "metadata": {},
   "outputs": [
    {
     "data": {
      "text/plain": [
       "       message: Optimization terminated successfully.\n",
       "       success: True\n",
       "        status: 0\n",
       "           fun: 4.861153433422115e-17\n",
       "             x: [ 1.000e+00  1.000e+00  1.000e+00  1.000e+00  1.000e+00]\n",
       "           nit: 339\n",
       "          nfev: 571\n",
       " final_simplex: (array([[ 1.000e+00,  1.000e+00, ...,  1.000e+00,\n",
       "                         1.000e+00],\n",
       "                       [ 1.000e+00,  1.000e+00, ...,  1.000e+00,\n",
       "                         1.000e+00],\n",
       "                       ...,\n",
       "                       [ 1.000e+00,  1.000e+00, ...,  1.000e+00,\n",
       "                         1.000e+00],\n",
       "                       [ 1.000e+00,  1.000e+00, ...,  1.000e+00,\n",
       "                         1.000e+00]]), array([ 4.861e-17,  7.652e-17,  8.114e-17,  8.633e-17,\n",
       "                        8.641e-17,  2.179e-16]))"
      ]
     },
     "execution_count": 134,
     "metadata": {},
     "output_type": "execute_result"
    }
   ],
   "source": [
    "res\n"
   ]
  },
  {
   "cell_type": "code",
   "execution_count": 2,
   "metadata": {},
   "outputs": [
    {
     "name": "stderr",
     "output_type": "stream",
     "text": [
      "/var/folders/rr/nsd1p9hx6hs_81m8swcypvkc0000gn/T/ipykernel_90650/244608755.py:8: RuntimeWarning: Maximum number of function evaluations has been exceeded.\n",
      "  res = minimize(m.likelihood_to_minimize, x0, method='nelder-mead',\n"
     ]
    },
    {
     "data": {
      "text/plain": [
       "       message: Maximum number of function evaluations has been exceeded.\n",
       "       success: False\n",
       "        status: 1\n",
       "           fun: -7.148770994541042e+51\n",
       "             x: [ 7.136e+48  6.073e+48  7.064e+49 -3.574e+50]\n",
       "           nit: 478\n",
       "          nfev: 800\n",
       " final_simplex: (array([[ 7.136e+48,  6.073e+48,  7.064e+49, -3.574e+50],\n",
       "                       [ 7.061e+48,  6.010e+48,  6.990e+49, -3.537e+50],\n",
       "                       ...,\n",
       "                       [ 3.394e+48,  2.889e+48,  3.360e+49, -1.700e+50],\n",
       "                       [ 3.359e+48,  2.859e+48,  3.325e+49, -1.682e+50]]), array([-7.149e+51, -7.074e+51, -4.798e+51, -3.401e+51,\n",
       "                       -3.365e+51]))"
      ]
     },
     "execution_count": 2,
     "metadata": {},
     "output_type": "execute_result"
    }
   ],
   "source": [
    "import numpy as np\n",
    "from scipy.optimize import minimize\n",
    "from likelihood import MaximumLikelihood\n",
    "\n",
    "T = 10\n",
    "tau_0_plus = np.array([[0.1, 0.3, 0.5, 0.7, 0.9]]) * T\n",
    "tau_0_minus = np.array([[0.2, 0.4, 0.6]]) * T\n",
    "\n",
    "m = MaximumLikelihood(T, tau_0_plus, tau_0_minus)\n",
    "\n",
    "x0 = np.array([1.3, 0.7, 0.8, 1.9])  # the 4 parameters to optimize\n",
    "res = minimize(m.likelihood_to_minimize, x0, method='nelder-mead',\n",
    "               options={'xatol': 1e-8, 'disp': True})\n",
    "res"
   ]
  },
  {
   "cell_type": "markdown",
   "metadata": {},
   "source": [
    "## Calculating integral of alpha_s"
   ]
  },
  {
   "cell_type": "code",
   "execution_count": 236,
   "metadata": {},
   "outputs": [
    {
     "name": "stdout",
     "output_type": "stream",
     "text": [
      "[[  0.   1.   2.   3.   4.   5.   6.   7.   9.  10.]\n",
      " [  0. 100. -90. 100. -90. 100. -90. 100. 100.   0.]]\n"
     ]
    }
   ],
   "source": [
    "T=10\n",
    "tau_0_plus = np.array([[0.1, 0.3, 0.5,0.7,0.9]]) * T\n",
    "tau_0_minus = np.array([[0.2, 0.4, 0.6]])*T\n",
    "tau_0 = np.concatenate(\n",
    "    [np.zeros([1,1]), tau_0_minus, tau_0_plus, np.ones([1,1]) * T], axis=1\n",
    ")\n",
    "\n",
    "eta_plus = 100\n",
    "eta_minus = 90\n",
    "k = 200\n",
    "eta_minus_vector = -np.ones([tau_0_minus.shape[1], 1]) * eta_minus\n",
    "eta_plus_vector = np.ones([tau_0_plus.shape[1], 1]) * eta_plus\n",
    "eta_vector = np.concatenate(\n",
    "    [np.zeros([1,1]), eta_minus_vector, eta_plus_vector, np.zeros([1,1])], axis=0\n",
    ").T\n",
    "tau_eta = np.concatenate([tau_0, eta_vector])\n",
    "result = eta_vector.T * np.ones([1, tau_0.shape[1]])\n",
    "\n",
    "#tau_0.sort()\n",
    "tau_eta = tau_eta[:,tau_eta[0, :].argsort()]\n",
    "tau_0 = tau_eta[:,tau_eta[0, :].argsort()][0:1,:]\n",
    "eta_0 = tau_eta[:,tau_eta[0, :].argsort()][1:2,:]\n",
    "#print(result.T)\n",
    "print(tau_eta)\n"
   ]
  },
  {
   "cell_type": "code",
   "execution_count": 237,
   "metadata": {},
   "outputs": [
    {
     "data": {
      "text/plain": [
       "array([[ 0.,  1.,  2.,  3.,  4.,  5.,  6.,  7.,  9., 10.],\n",
       "       [ 0.,  1.,  2.,  3.,  4.,  5.,  6.,  7.,  9., 10.],\n",
       "       [ 0.,  1.,  2.,  3.,  4.,  5.,  6.,  7.,  9., 10.],\n",
       "       [ 0.,  1.,  2.,  3.,  4.,  5.,  6.,  7.,  9., 10.],\n",
       "       [ 0.,  1.,  2.,  3.,  4.,  5.,  6.,  7.,  9., 10.],\n",
       "       [ 0.,  1.,  2.,  3.,  4.,  5.,  6.,  7.,  9., 10.],\n",
       "       [ 0.,  1.,  2.,  3.,  4.,  5.,  6.,  7.,  9., 10.],\n",
       "       [ 0.,  1.,  2.,  3.,  4.,  5.,  6.,  7.,  9., 10.],\n",
       "       [ 0.,  1.,  2.,  3.,  4.,  5.,  6.,  7.,  9., 10.],\n",
       "       [ 0.,  1.,  2.,  3.,  4.,  5.,  6.,  7.,  9., 10.]])"
      ]
     },
     "execution_count": 237,
     "metadata": {},
     "output_type": "execute_result"
    }
   ],
   "source": [
    "np.exp(-k*tau_0_plus)\n",
    "tau_matrix = tau_0 * np.ones([1, tau_0.shape[1]]).T\n",
    "tau_matrix"
   ]
  },
  {
   "cell_type": "code",
   "execution_count": 238,
   "metadata": {},
   "outputs": [
    {
     "data": {
      "text/plain": [
       "array([[  0., 100., -90., 100., -90., 100., -90., 100., 100.,   0.],\n",
       "       [  0., 100., -90., 100., -90., 100., -90., 100., 100.,   0.],\n",
       "       [  0., 100., -90., 100., -90., 100., -90., 100., 100.,   0.],\n",
       "       [  0., 100., -90., 100., -90., 100., -90., 100., 100.,   0.],\n",
       "       [  0., 100., -90., 100., -90., 100., -90., 100., 100.,   0.],\n",
       "       [  0., 100., -90., 100., -90., 100., -90., 100., 100.,   0.],\n",
       "       [  0., 100., -90., 100., -90., 100., -90., 100., 100.,   0.],\n",
       "       [  0., 100., -90., 100., -90., 100., -90., 100., 100.,   0.],\n",
       "       [  0., 100., -90., 100., -90., 100., -90., 100., 100.,   0.],\n",
       "       [  0., 100., -90., 100., -90., 100., -90., 100., 100.,   0.]])"
      ]
     },
     "execution_count": 238,
     "metadata": {},
     "output_type": "execute_result"
    }
   ],
   "source": [
    "np.exp(-k*tau_0_plus)\n",
    "eta_matrix = eta_0 * np.ones([1, eta_0.shape[1]]).T\n",
    "eta_matrix"
   ]
  },
  {
   "cell_type": "code",
   "execution_count": 239,
   "metadata": {},
   "outputs": [
    {
     "data": {
      "text/plain": [
       "array([[ 1.,  2.,  3.,  4.,  5.,  6.,  7.,  9., 10.,  0.],\n",
       "       [ 1.,  2.,  3.,  4.,  5.,  6.,  7.,  9., 10.,  0.],\n",
       "       [ 1.,  2.,  3.,  4.,  5.,  6.,  7.,  9., 10.,  0.],\n",
       "       [ 1.,  2.,  3.,  4.,  5.,  6.,  7.,  9., 10.,  0.],\n",
       "       [ 1.,  2.,  3.,  4.,  5.,  6.,  7.,  9., 10.,  0.],\n",
       "       [ 1.,  2.,  3.,  4.,  5.,  6.,  7.,  9., 10.,  0.],\n",
       "       [ 1.,  2.,  3.,  4.,  5.,  6.,  7.,  9., 10.,  0.],\n",
       "       [ 1.,  2.,  3.,  4.,  5.,  6.,  7.,  9., 10.,  0.],\n",
       "       [ 1.,  2.,  3.,  4.,  5.,  6.,  7.,  9., 10.,  0.],\n",
       "       [ 1.,  2.,  3.,  4.,  5.,  6.,  7.,  9., 10.,  0.]])"
      ]
     },
     "execution_count": 239,
     "metadata": {},
     "output_type": "execute_result"
    }
   ],
   "source": [
    "tau_matrix_1 = np.roll(tau_matrix,-1) # numero de fila es j, numero de columna es i\n",
    "tau_matrix_1"
   ]
  },
  {
   "cell_type": "code",
   "execution_count": 240,
   "metadata": {},
   "outputs": [
    {
     "data": {
      "text/plain": [
       "array([[  0.,   1.,   2.,   3.,   4.,   5.,   6.,   7.,   9.,  10.],\n",
       "       [ -1.,   0.,   1.,   2.,   3.,   4.,   5.,   6.,   8.,   9.],\n",
       "       [ -2.,  -1.,   0.,   1.,   2.,   3.,   4.,   5.,   7.,   8.],\n",
       "       [ -3.,  -2.,  -1.,   0.,   1.,   2.,   3.,   4.,   6.,   7.],\n",
       "       [ -4.,  -3.,  -2.,  -1.,   0.,   1.,   2.,   3.,   5.,   6.],\n",
       "       [ -5.,  -4.,  -3.,  -2.,  -1.,   0.,   1.,   2.,   4.,   5.],\n",
       "       [ -6.,  -5.,  -4.,  -3.,  -2.,  -1.,   0.,   1.,   3.,   4.],\n",
       "       [ -7.,  -6.,  -5.,  -4.,  -3.,  -2.,  -1.,   0.,   2.,   3.],\n",
       "       [ -9.,  -8.,  -7.,  -6.,  -5.,  -4.,  -3.,  -2.,   0.,   1.],\n",
       "       [-10.,  -9.,  -8.,  -7.,  -6.,  -5.,  -4.,  -3.,  -1.,   0.]])"
      ]
     },
     "execution_count": 240,
     "metadata": {},
     "output_type": "execute_result"
    }
   ],
   "source": [
    "tau_matrix_diff = tau_matrix - tau_matrix.T\n",
    "tau_matrix_diff"
   ]
  },
  {
   "cell_type": "code",
   "execution_count": 241,
   "metadata": {},
   "outputs": [
    {
     "data": {
      "text/plain": [
       "array([[  0.,   1.,   2.,   3.,   4.,   5.,   6.,   7.,   9.,  10.],\n",
       "       [ -1.,   0.,   1.,   2.,   3.,   4.,   5.,   6.,   8.,   9.],\n",
       "       [ -2.,  -1.,   0.,   1.,   2.,   3.,   4.,   5.,   7.,   8.],\n",
       "       [ -3.,  -2.,  -1.,   0.,   1.,   2.,   3.,   4.,   6.,   7.],\n",
       "       [ -4.,  -3.,  -2.,  -1.,   0.,   1.,   2.,   3.,   5.,   6.],\n",
       "       [ -5.,  -4.,  -3.,  -2.,  -1.,   0.,   1.,   2.,   4.,   5.],\n",
       "       [ -6.,  -5.,  -4.,  -3.,  -2.,  -1.,   0.,   1.,   3.,   4.],\n",
       "       [ -7.,  -6.,  -5.,  -4.,  -3.,  -2.,  -1.,   0.,   2.,   3.],\n",
       "       [ -9.,  -8.,  -7.,  -6.,  -5.,  -4.,  -3.,  -2.,   0.,   1.],\n",
       "       [-10.,  -9.,  -8.,  -7.,  -6.,  -5.,  -4.,  -3.,  -1.,   0.]])"
      ]
     },
     "execution_count": 241,
     "metadata": {},
     "output_type": "execute_result"
    }
   ],
   "source": [
    "tau_matrix_diff"
   ]
  },
  {
   "cell_type": "code",
   "execution_count": 242,
   "metadata": {},
   "outputs": [
    {
     "data": {
      "text/plain": [
       "array([[ 0.,  1.,  2.,  3.,  4.,  5.,  6.,  7.,  9., 10.],\n",
       "       [ 0.,  0.,  1.,  2.,  3.,  4.,  5.,  6.,  8.,  9.],\n",
       "       [ 0.,  0.,  0.,  1.,  2.,  3.,  4.,  5.,  7.,  8.],\n",
       "       [ 0.,  0.,  0.,  0.,  1.,  2.,  3.,  4.,  6.,  7.],\n",
       "       [ 0.,  0.,  0.,  0.,  0.,  1.,  2.,  3.,  5.,  6.],\n",
       "       [ 0.,  0.,  0.,  0.,  0.,  0.,  1.,  2.,  4.,  5.],\n",
       "       [ 0.,  0.,  0.,  0.,  0.,  0.,  0.,  1.,  3.,  4.],\n",
       "       [ 0.,  0.,  0.,  0.,  0.,  0.,  0.,  0.,  2.,  3.],\n",
       "       [ 0.,  0.,  0.,  0.,  0.,  0.,  0.,  0.,  0.,  1.],\n",
       "       [ 0.,  0.,  0.,  0.,  0.,  0.,  0.,  0.,  0.,  0.]])"
      ]
     },
     "execution_count": 242,
     "metadata": {},
     "output_type": "execute_result"
    }
   ],
   "source": [
    "tau_matrix_diff = np.where(tau_matrix_diff>0, tau_matrix_diff, 0)\n",
    "tau_matrix_diff"
   ]
  },
  {
   "cell_type": "code",
   "execution_count": 243,
   "metadata": {},
   "outputs": [
    {
     "name": "stdout",
     "output_type": "stream",
     "text": [
      "[[1 2 3 3]\n",
      " [4 5 6 6]]\n"
     ]
    },
    {
     "data": {
      "text/plain": [
       "array([5, 7, 9, 9])"
      ]
     },
     "execution_count": 243,
     "metadata": {},
     "output_type": "execute_result"
    }
   ],
   "source": [
    "arr = np.array([[1,2,3,3],[4,5,6,6]])\n",
    "print(arr)\n",
    "np.sum(arr, axis=0)"
   ]
  },
  {
   "cell_type": "code",
   "execution_count": 250,
   "metadata": {},
   "outputs": [
    {
     "data": {
      "text/plain": [
       "array([[ 1.,  2.,  3.,  4.,  5.,  6.,  7.,  9., 10.,  0.],\n",
       "       [ 0.,  1.,  2.,  3.,  4.,  5.,  6.,  8.,  9.,  0.],\n",
       "       [ 0.,  0.,  1.,  2.,  3.,  4.,  5.,  7.,  8.,  0.],\n",
       "       [ 0.,  0.,  0.,  1.,  2.,  3.,  4.,  6.,  7.,  0.],\n",
       "       [ 0.,  0.,  0.,  0.,  1.,  2.,  3.,  5.,  6.,  0.],\n",
       "       [ 0.,  0.,  0.,  0.,  0.,  1.,  2.,  4.,  5.,  0.],\n",
       "       [ 0.,  0.,  0.,  0.,  0.,  0.,  1.,  3.,  4.,  0.],\n",
       "       [ 0.,  0.,  0.,  0.,  0.,  0.,  0.,  2.,  3.,  0.],\n",
       "       [ 0.,  0.,  0.,  0.,  0.,  0.,  0.,  0.,  1.,  0.],\n",
       "       [ 0.,  0.,  0.,  0.,  0.,  0.,  0.,  0.,  0.,  0.]])"
      ]
     },
     "execution_count": 250,
     "metadata": {},
     "output_type": "execute_result"
    }
   ],
   "source": [
    "tau_matrix_diff_1 = tau_matrix_1 - tau_matrix.T\n",
    "tau_matrix_diff_1 = np.where(tau_matrix_diff_1>0, tau_matrix_diff_1, 0)\n",
    "tau_matrix_diff_1\n"
   ]
  },
  {
   "cell_type": "code",
   "execution_count": 256,
   "metadata": {},
   "outputs": [
    {
     "data": {
      "text/plain": [
       "array([[-0.00000000e+000, -1.38389653e-085,  1.72365264e-172,\n",
       "        -2.65039655e-259, -0.00000000e+000,  0.00000000e+000,\n",
       "        -0.00000000e+000,  0.00000000e+000,  0.00000000e+000,\n",
       "         0.00000000e+000],\n",
       "       [ 0.00000000e+000, -1.00000000e+002,  1.24550687e-085,\n",
       "        -1.91516960e-172,  2.38535690e-259,  0.00000000e+000,\n",
       "        -0.00000000e+000,  0.00000000e+000,  0.00000000e+000,\n",
       "         0.00000000e+000],\n",
       "       [ 0.00000000e+000,  0.00000000e+000,  9.00000000e+001,\n",
       "        -1.38389653e-085,  1.72365264e-172, -2.65039655e-259,\n",
       "        -0.00000000e+000,  0.00000000e+000,  0.00000000e+000,\n",
       "         0.00000000e+000],\n",
       "       [ 0.00000000e+000,  0.00000000e+000, -0.00000000e+000,\n",
       "        -1.00000000e+002,  1.24550687e-085, -1.91516960e-172,\n",
       "         2.38535690e-259,  0.00000000e+000,  0.00000000e+000,\n",
       "         0.00000000e+000],\n",
       "       [ 0.00000000e+000,  0.00000000e+000, -0.00000000e+000,\n",
       "         0.00000000e+000,  9.00000000e+001, -1.38389653e-085,\n",
       "         1.72365264e-172, -2.65039655e-259,  0.00000000e+000,\n",
       "         0.00000000e+000],\n",
       "       [ 0.00000000e+000,  0.00000000e+000, -0.00000000e+000,\n",
       "         0.00000000e+000, -0.00000000e+000, -1.00000000e+002,\n",
       "         1.24550687e-085, -1.91516960e-172,  0.00000000e+000,\n",
       "         0.00000000e+000],\n",
       "       [ 0.00000000e+000,  0.00000000e+000, -0.00000000e+000,\n",
       "         0.00000000e+000, -0.00000000e+000,  0.00000000e+000,\n",
       "         9.00000000e+001, -1.38389653e-085, -2.65039655e-259,\n",
       "         0.00000000e+000],\n",
       "       [ 0.00000000e+000,  0.00000000e+000, -0.00000000e+000,\n",
       "         0.00000000e+000, -0.00000000e+000,  0.00000000e+000,\n",
       "        -0.00000000e+000, -1.00000000e+002, -1.91516960e-172,\n",
       "         0.00000000e+000],\n",
       "       [ 0.00000000e+000,  0.00000000e+000, -0.00000000e+000,\n",
       "         0.00000000e+000, -0.00000000e+000,  0.00000000e+000,\n",
       "        -0.00000000e+000,  0.00000000e+000, -1.00000000e+002,\n",
       "         0.00000000e+000],\n",
       "       [ 0.00000000e+000,  0.00000000e+000, -0.00000000e+000,\n",
       "         0.00000000e+000, -0.00000000e+000,  0.00000000e+000,\n",
       "        -0.00000000e+000,  0.00000000e+000,  0.00000000e+000,\n",
       "         0.00000000e+000]])"
      ]
     },
     "execution_count": 256,
     "metadata": {},
     "output_type": "execute_result"
    }
   ],
   "source": [
    "tau_matrix_diff = tau_matrix - tau_matrix.T\n",
    "tau_matrix_diff = np.where(tau_matrix_diff>0, tau_matrix_diff, 0)\n",
    "\n",
    "tau_matrix_diff_1 = tau_matrix_1 - tau_matrix.T\n",
    "tau_matrix_diff_1 = np.where(tau_matrix_diff_1>0, tau_matrix_diff_1, 0)\n",
    "\n",
    "alpha_tau_matrix = eta_matrix * (np.exp(\n",
    "    -k * tau_matrix_diff_1\n",
    ") - np.exp(-k * tau_matrix_diff))\n",
    "\n",
    "alpha_tau_matrix"
   ]
  },
  {
   "cell_type": "code",
   "execution_count": 257,
   "metadata": {},
   "outputs": [
    {
     "data": {
      "text/plain": [
       "array([   0., -100.,   90., -100.,   90., -100.,   90., -100., -100.,\n",
       "          0.])"
      ]
     },
     "execution_count": 257,
     "metadata": {},
     "output_type": "execute_result"
    }
   ],
   "source": [
    "alpha_tau = np.sum(alpha_tau_matrix, axis=0)\n",
    "alpha_tau"
   ]
  },
  {
   "cell_type": "markdown",
   "metadata": {},
   "source": [
    "Alpha tau should be possitive. I don't know why are they using - 1/k. May be I should modifty it to be possitive inverting the simbols"
   ]
  },
  {
   "cell_type": "code",
   "execution_count": 268,
   "metadata": {},
   "outputs": [
    {
     "data": {
      "text/plain": [
       "-1.35"
      ]
     },
     "execution_count": 268,
     "metadata": {},
     "output_type": "execute_result"
    }
   ],
   "source": [
    "alpha_s_plus = np.sum(-np.where(alpha_tau>=0,alpha_tau, 0)/k)\n",
    "alpha_s_plus "
   ]
  },
  {
   "cell_type": "code",
   "execution_count": 267,
   "metadata": {},
   "outputs": [
    {
     "data": {
      "text/plain": [
       "-2.5"
      ]
     },
     "execution_count": 267,
     "metadata": {},
     "output_type": "execute_result"
    }
   ],
   "source": [
    "alpha_s_minus = np.sum(np.where(alpha_tau<=0,alpha_tau, 0)/k)\n",
    "alpha_s_minus"
   ]
  },
  {
   "cell_type": "code",
   "execution_count": 269,
   "metadata": {},
   "outputs": [
    {
     "data": {
      "text/plain": [
       "1.15"
      ]
     },
     "execution_count": 269,
     "metadata": {},
     "output_type": "execute_result"
    }
   ],
   "source": [
    "integral_alpha_s = alpha_s_plus - alpha_s_minus\n",
    "integral_alpha_s\n"
   ]
  },
  {
   "cell_type": "code",
   "execution_count": 248,
   "metadata": {},
   "outputs": [
    {
     "ename": "NameError",
     "evalue": "name 'something_summed_1_to_n_plus' is not defined",
     "output_type": "error",
     "traceback": [
      "\u001b[0;31m---------------------------------------------------------------------------\u001b[0m",
      "\u001b[0;31mNameError\u001b[0m                                 Traceback (most recent call last)",
      "\u001b[1;32m/Users/federico/Repos/marketmaking/alpha_signals/likelihood.ipynb Cell 20\u001b[0m line \u001b[0;36m3\n\u001b[1;32m      <a href='vscode-notebook-cell:/Users/federico/Repos/marketmaking/alpha_signals/likelihood.ipynb#X10sZmlsZQ%3D%3D?line=0'>1</a>\u001b[0m summed \u001b[39m=\u001b[39m \u001b[39msum\u001b[39m(\n\u001b[1;32m      <a href='vscode-notebook-cell:/Users/federico/Repos/marketmaking/alpha_signals/likelihood.ipynb#X10sZmlsZQ%3D%3D?line=1'>2</a>\u001b[0m     tau_0 \u001b[39m*\u001b[39m (\n\u001b[0;32m----> <a href='vscode-notebook-cell:/Users/federico/Repos/marketmaking/alpha_signals/likelihood.ipynb#X10sZmlsZQ%3D%3D?line=2'>3</a>\u001b[0m         eta_plus \u001b[39m*\u001b[39m (something_summed_1_to_n_plus\n\u001b[1;32m      <a href='vscode-notebook-cell:/Users/federico/Repos/marketmaking/alpha_signals/likelihood.ipynb#X10sZmlsZQ%3D%3D?line=3'>4</a>\u001b[0m         ) \u001b[39m-\u001b[39m eta_minus \u001b[39m*\u001b[39m (something_summed_1_to_n_minus))\n\u001b[1;32m      <a href='vscode-notebook-cell:/Users/federico/Repos/marketmaking/alpha_signals/likelihood.ipynb#X10sZmlsZQ%3D%3D?line=4'>5</a>\u001b[0m )\n\u001b[1;32m      <a href='vscode-notebook-cell:/Users/federico/Repos/marketmaking/alpha_signals/likelihood.ipynb#X10sZmlsZQ%3D%3D?line=5'>6</a>\u001b[0m eta_plus \u001b[39m*\u001b[39m \u001b[39msum\u001b[39m()  \u001b[39m# j=1 a n+\u001b[39;00m\n\u001b[1;32m      <a href='vscode-notebook-cell:/Users/federico/Repos/marketmaking/alpha_signals/likelihood.ipynb#X10sZmlsZQ%3D%3D?line=6'>7</a>\u001b[0m i \u001b[39m=\u001b[39m \u001b[39m0\u001b[39m\n",
      "\u001b[0;31mNameError\u001b[0m: name 'something_summed_1_to_n_plus' is not defined"
     ]
    }
   ],
   "source": [
    "summed = sum(\n",
    "    tau_0 * (\n",
    "        eta_plus * (something_summed_1_to_n_plus\n",
    "        ) - eta_minus * (something_summed_1_to_n_minus))\n",
    ")\n",
    "eta_plus * sum()  # j=1 a n+\n",
    "i = 0\n",
    "j = 0\n",
    "np.exp(\n",
    "    -k * ((np.logical_or(tau_0[i + 1], tau_0_plus[j])) - tau_0_plus[j])\n",
    ") - np.exp(-k * ((np.logical_or(tau_0[i], tau_0_plus[j])) - tau_0_plus[j]))\n",
    "\n",
    "result = -1 / k * np.sum(result)"
   ]
  }
 ],
 "metadata": {
  "kernelspec": {
   "display_name": "marketmaking",
   "language": "python",
   "name": "python3"
  },
  "language_info": {
   "codemirror_mode": {
    "name": "ipython",
    "version": 3
   },
   "file_extension": ".py",
   "mimetype": "text/x-python",
   "name": "python",
   "nbconvert_exporter": "python",
   "pygments_lexer": "ipython3",
   "version": "3.11.5"
  },
  "orig_nbformat": 4
 },
 "nbformat": 4,
 "nbformat_minor": 2
}
