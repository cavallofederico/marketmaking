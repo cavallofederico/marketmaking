{
 "cells": [
  {
   "cell_type": "markdown",
   "metadata": {},
   "source": [
    "# Log likelihood calculation"
   ]
  },
  {
   "cell_type": "markdown",
   "metadata": {},
   "source": [
    "$L(\\theta) = -2\\theta T + \\int_0^T ((\\alpha_s)_+ - (\\alpha_s)_-)ds + \\sum_{i=1}^{m+} log [(\\alpha_{t_i}^{+ -})_+ + \\theta] + \\sum_{i=1}^{m+} log [(\\alpha_{t_i}^{- -})_- + \\theta]$\n",
    "\n",
    "$\\alpha_{t^-} = \\eta^+ \\sum_{i=1}^{n+}e^{-k(t-\\tau_i^{0+})}1{t>\\tau_i^{0+}} - \\sum_{i=1}^{n-}e^{-k(t-\\tau_i^{0-})}1{t>\\tau_i^{0-}}$\n",
    "\n",
    "https://docs.scipy.org/doc/scipy/tutorial/optimize.html"
   ]
  },
  {
   "cell_type": "markdown",
   "metadata": {},
   "source": []
  },
  {
   "cell_type": "code",
   "execution_count": 1,
   "metadata": {},
   "outputs": [
    {
     "name": "stdout",
     "output_type": "stream",
     "text": [
      "Optimization terminated successfully.\n",
      "         Current function value: 0.000000\n",
      "         Iterations: 339\n",
      "         Function evaluations: 571\n"
     ]
    }
   ],
   "source": [
    "import numpy as np\n",
    "from scipy.optimize import minimize\n",
    "def rosen(x):\n",
    "    \"\"\"The Rosenbrock function\"\"\"\n",
    "    return sum(100.0*(x[1:]-x[:-1]**2.0)**2.0 + (1-x[:-1])**2.0)\n",
    "x0 = np.array([1.3, 0.7, 0.8, 1.9, 1.2])  # the 4 parameters to optimize\n",
    "res = minimize(rosen, x0, method='nelder-mead',\n",
    "               options={'xatol': 1e-8, 'disp': True})"
   ]
  },
  {
   "cell_type": "code",
   "execution_count": 2,
   "metadata": {},
   "outputs": [
    {
     "data": {
      "text/plain": [
       "       message: Optimization terminated successfully.\n",
       "       success: True\n",
       "        status: 0\n",
       "           fun: 4.861153433422115e-17\n",
       "             x: [ 1.000e+00  1.000e+00  1.000e+00  1.000e+00  1.000e+00]\n",
       "           nit: 339\n",
       "          nfev: 571\n",
       " final_simplex: (array([[ 1.000e+00,  1.000e+00, ...,  1.000e+00,\n",
       "                         1.000e+00],\n",
       "                       [ 1.000e+00,  1.000e+00, ...,  1.000e+00,\n",
       "                         1.000e+00],\n",
       "                       ...,\n",
       "                       [ 1.000e+00,  1.000e+00, ...,  1.000e+00,\n",
       "                         1.000e+00],\n",
       "                       [ 1.000e+00,  1.000e+00, ...,  1.000e+00,\n",
       "                         1.000e+00]]), array([ 4.861e-17,  7.652e-17,  8.114e-17,  8.633e-17,\n",
       "                        8.641e-17,  2.179e-16]))"
      ]
     },
     "execution_count": 2,
     "metadata": {},
     "output_type": "execute_result"
    }
   ],
   "source": [
    "res\n"
   ]
  }
 ],
 "metadata": {
  "kernelspec": {
   "display_name": "marketmaking",
   "language": "python",
   "name": "python3"
  },
  "language_info": {
   "codemirror_mode": {
    "name": "ipython",
    "version": 3
   },
   "file_extension": ".py",
   "mimetype": "text/x-python",
   "name": "python",
   "nbconvert_exporter": "python",
   "pygments_lexer": "ipython3",
   "version": "3.11.5"
  },
  "orig_nbformat": 4
 },
 "nbformat": 4,
 "nbformat_minor": 2
}
