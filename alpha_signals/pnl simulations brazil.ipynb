{
 "cells": [
  {
   "cell_type": "code",
   "execution_count": 1,
   "metadata": {},
   "outputs": [
    {
     "name": "stdout",
     "output_type": "stream",
     "text": [
      "Parameters(q_max=4, T=300, A=300, dalpha=30, Delta=0.005, epsilon=0.005, psi=0.01, phi_=1e-06, eta_plus=42.0989, eta_minus=32.915, sigma=0.01, k=425.169, xi=1.0, lambda_plus=1.0, lambda_minus=1.0, theta=4.355, s0=100, n=10, drift=True)\n",
      "Calculating h\n",
      "Starting h calculation\n",
      "0.00023508997350405397\n",
      "1276107\n",
      "Starting to calculate h\n",
      "Finished calculating h- 0.0 h                          02e-07 h                          \n",
      "Amount of simulations: 10\n",
      "Mean of PNL:2.710500000000023281488715e-08 h                             \n",
      "Stde of PNL:1.1833204342025938\n",
      "500\n"
     ]
    }
   ],
   "source": [
    "from simulations import generate_simulations_bunchs\n",
    "from parameters import Parameters, base_simulation_parameters_dict\n",
    "\n",
    "\n",
    "p = Parameters(**base_simulation_parameters_dict)\n",
    "p.dalpha = 30\n",
    "p.T = 300\n",
    "p.n = 10\n",
    "\n",
    "## Distribucion general\n",
    "# p.k = 272.2661\n",
    "# p.eta_plus = 21.4226\n",
    "# p.eta_minus = 17.0106\n",
    "# p.theta = 4.4790\n",
    "\n",
    "# NODIVERGENTES_6\n",
    "p.k = 425.169\n",
    "p.eta_plus = 42.0989\n",
    "p.eta_minus = 32.915\n",
    "p.theta = 4.355\n",
    "\n",
    "print(p)\n",
    "results = generate_simulations_bunchs(p)"
   ]
  },
  {
   "cell_type": "code",
   "execution_count": 3,
   "metadata": {},
   "outputs": [
    {
     "data": {
      "text/plain": [
       "array([2.455, 2.8  , 3.055, 1.545, 3.61 , 2.18 , 1.22 , 5.59 , 2.85 ,\n",
       "       1.8  ])"
      ]
     },
     "execution_count": 3,
     "metadata": {},
     "output_type": "execute_result"
    }
   ],
   "source": [
    "results[\"pnl\"][:,-1]"
   ]
  }
 ],
 "metadata": {
  "kernelspec": {
   "display_name": ".venv",
   "language": "python",
   "name": "python3"
  },
  "language_info": {
   "codemirror_mode": {
    "name": "ipython",
    "version": 3
   },
   "file_extension": ".py",
   "mimetype": "text/x-python",
   "name": "python",
   "nbconvert_exporter": "python",
   "pygments_lexer": "ipython3",
   "version": "3.11.5"
  },
  "orig_nbformat": 4
 },
 "nbformat": 4,
 "nbformat_minor": 2
}
