{
 "cells": [
  {
   "cell_type": "markdown",
   "metadata": {},
   "source": [
    "# Simulations"
   ]
  },
  {
   "cell_type": "code",
   "execution_count": 2,
   "metadata": {},
   "outputs": [
    {
     "name": "stdout",
     "output_type": "stream",
     "text": [
      "[{'TICKER': 'NODIVERGENTES_6', 'n': 1000, 'phi_': 1e-06, 'drift': 'Yes', 'dalpha': 30, 'T': 300, 'Unnamed: 6': nan}, {'TICKER': 'NODIVERGENTES_6', 'n': 1000, 'phi_': 0.001, 'drift': 'Yes', 'dalpha': 30, 'T': 300, 'Unnamed: 6': nan}, {'TICKER': 'NODIVERGENTES_6', 'n': 1000, 'phi_': 1e-06, 'drift': 'No', 'dalpha': 30, 'T': 300, 'Unnamed: 6': nan}, {'TICKER': 'NODIVERGENTES_6', 'n': 1000, 'phi_': 0.001, 'drift': 'No', 'dalpha': 30, 'T': 300, 'Unnamed: 6': nan}, {'TICKER': 'NODIVERGENTES_29', 'n': 1000, 'phi_': 1e-06, 'drift': 'Yes', 'dalpha': 30, 'T': 300, 'Unnamed: 6': nan}, {'TICKER': 'NODIVERGENTES_29', 'n': 1000, 'phi_': 0.001, 'drift': 'Yes', 'dalpha': 30, 'T': 300, 'Unnamed: 6': nan}, {'TICKER': 'NODIVERGENTES_29', 'n': 1000, 'phi_': 1e-06, 'drift': 'No', 'dalpha': 30, 'T': 300, 'Unnamed: 6': nan}, {'TICKER': 'NODIVERGENTES_29', 'n': 1000, 'phi_': 0.001, 'drift': 'No', 'dalpha': 30, 'T': 300, 'Unnamed: 6': nan}, {'TICKER': 'NODIVERGENTES_32', 'n': 1000, 'phi_': 1e-06, 'drift': 'Yes', 'dalpha': 30, 'T': 300, 'Unnamed: 6': nan}, {'TICKER': 'NODIVERGENTES_32', 'n': 1000, 'phi_': 0.001, 'drift': 'Yes', 'dalpha': 30, 'T': 300, 'Unnamed: 6': nan}, {'TICKER': 'NODIVERGENTES_32', 'n': 1000, 'phi_': 1e-06, 'drift': 'No', 'dalpha': 30, 'T': 300, 'Unnamed: 6': nan}, {'TICKER': 'NODIVERGENTES_32', 'n': 1000, 'phi_': 0.001, 'drift': 'No', 'dalpha': 30, 'T': 300, 'Unnamed: 6': nan}, {'TICKER': 'GENERAL_MEDIA', 'n': 1000, 'phi_': 1e-06, 'drift': 'Yes', 'dalpha': 5, 'T': 300, 'Unnamed: 6': nan}, {'TICKER': 'GENERAL_MEDIA', 'n': 1000, 'phi_': 0.001, 'drift': 'Yes', 'dalpha': 5, 'T': 300, 'Unnamed: 6': nan}, {'TICKER': 'GENERAL_MEDIA', 'n': 1000, 'phi_': 1e-06, 'drift': 'No', 'dalpha': 5, 'T': 300, 'Unnamed: 6': nan}, {'TICKER': 'GENERAL_MEDIA', 'n': 1000, 'phi_': 0.001, 'drift': 'No', 'dalpha': 5, 'T': 300, 'Unnamed: 6': nan}, {'TICKER': 'GENERAL_MEDIANA', 'n': 1000, 'phi_': 1e-06, 'drift': 'Yes', 'dalpha': 5, 'T': 300, 'Unnamed: 6': nan}, {'TICKER': 'GENERAL_MEDIANA', 'n': 1000, 'phi_': 0.001, 'drift': 'Yes', 'dalpha': 5, 'T': 300, 'Unnamed: 6': nan}, {'TICKER': 'GENERAL_MEDIANA', 'n': 1000, 'phi_': 1e-06, 'drift': 'No', 'dalpha': 5, 'T': 300, 'Unnamed: 6': nan}, {'TICKER': 'GENERAL_MEDIANA', 'n': 1000, 'phi_': 0.001, 'drift': 'No', 'dalpha': 5, 'T': 300, 'Unnamed: 6': nan}, {'TICKER': 'NODIVERGENTES_MEDIA', 'n': 1000, 'phi_': 1e-06, 'drift': 'Yes', 'dalpha': 5, 'T': 300, 'Unnamed: 6': nan}, {'TICKER': 'NODIVERGENTES_MEDIA', 'n': 1000, 'phi_': 0.001, 'drift': 'Yes', 'dalpha': 5, 'T': 300, 'Unnamed: 6': nan}, {'TICKER': 'NODIVERGENTES_MEDIA', 'n': 1000, 'phi_': 1e-06, 'drift': 'No', 'dalpha': 5, 'T': 300, 'Unnamed: 6': nan}, {'TICKER': 'NODIVERGENTES_MEDIA', 'n': 1000, 'phi_': 0.001, 'drift': 'No', 'dalpha': 5, 'T': 300, 'Unnamed: 6': nan}, {'TICKER': 'NODIVERGENTES_MEDIANA', 'n': 1000, 'phi_': 1e-06, 'drift': 'Yes', 'dalpha': 5, 'T': 300, 'Unnamed: 6': '  '}, {'TICKER': 'NODIVERGENTES_MEDIANA', 'n': 1000, 'phi_': 0.001, 'drift': 'Yes', 'dalpha': 5, 'T': 300, 'Unnamed: 6': nan}, {'TICKER': 'NODIVERGENTES_MEDIANA', 'n': 1000, 'phi_': 1e-06, 'drift': 'No', 'dalpha': 5, 'T': 300, 'Unnamed: 6': nan}, {'TICKER': 'NODIVERGENTES_MEDIANA', 'n': 1000, 'phi_': 0.001, 'drift': 'No', 'dalpha': 5, 'T': 300, 'Unnamed: 6': nan}, {'TICKER': 'PROMEDIO', 'n': 1000, 'phi_': 1e-06, 'drift': 'Yes', 'dalpha': 5, 'T': 300, 'Unnamed: 6': nan}, {'TICKER': 'PROMEDIO', 'n': 1000, 'phi_': 0.001, 'drift': 'Yes', 'dalpha': 5, 'T': 300, 'Unnamed: 6': nan}, {'TICKER': 'PROMEDIO', 'n': 1000, 'phi_': 1e-06, 'drift': 'No', 'dalpha': 5, 'T': 300, 'Unnamed: 6': nan}, {'TICKER': 'PROMEDIO', 'n': 1000, 'phi_': 0.001, 'drift': 'No', 'dalpha': 5, 'T': 300, 'Unnamed: 6': nan}, {'TICKER': 'SUBMUESTREO', 'n': 1000, 'phi_': 1e-06, 'drift': 'Yes', 'dalpha': 5, 'T': 300, 'Unnamed: 6': nan}, {'TICKER': 'SUBMUESTREO', 'n': 1000, 'phi_': 0.001, 'drift': 'Yes', 'dalpha': 5, 'T': 300, 'Unnamed: 6': nan}, {'TICKER': 'SUBMUESTREO', 'n': 1000, 'phi_': 1e-06, 'drift': 'No', 'dalpha': 5, 'T': 300, 'Unnamed: 6': nan}, {'TICKER': 'SUBMUESTREO', 'n': 1000, 'phi_': 0.001, 'drift': 'No', 'dalpha': 5, 'T': 300, 'Unnamed: 6': nan}, {'TICKER': 'NODIVERGENTES_6', 'n': 1000, 'phi_': 1e-06, 'drift': 'Yes', 'dalpha': 5, 'T': 300, 'Unnamed: 6': nan}, {'TICKER': 'NODIVERGENTES_6', 'n': 1000, 'phi_': 0.001, 'drift': 'Yes', 'dalpha': 5, 'T': 300, 'Unnamed: 6': nan}, {'TICKER': 'NODIVERGENTES_6', 'n': 1000, 'phi_': 1e-06, 'drift': 'No', 'dalpha': 5, 'T': 300, 'Unnamed: 6': nan}, {'TICKER': 'NODIVERGENTES_6', 'n': 1000, 'phi_': 0.001, 'drift': 'No', 'dalpha': 5, 'T': 300, 'Unnamed: 6': nan}, {'TICKER': 'NODIVERGENTES_29', 'n': 1000, 'phi_': 1e-06, 'drift': 'Yes', 'dalpha': 5, 'T': 300, 'Unnamed: 6': nan}, {'TICKER': 'NODIVERGENTES_29', 'n': 1000, 'phi_': 0.001, 'drift': 'Yes', 'dalpha': 5, 'T': 300, 'Unnamed: 6': nan}, {'TICKER': 'NODIVERGENTES_29', 'n': 1000, 'phi_': 1e-06, 'drift': 'No', 'dalpha': 5, 'T': 300, 'Unnamed: 6': nan}, {'TICKER': 'NODIVERGENTES_29', 'n': 1000, 'phi_': 0.001, 'drift': 'No', 'dalpha': 5, 'T': 300, 'Unnamed: 6': nan}, {'TICKER': 'NODIVERGENTES_32', 'n': 1000, 'phi_': 1e-06, 'drift': 'Yes', 'dalpha': 5, 'T': 300, 'Unnamed: 6': nan}, {'TICKER': 'NODIVERGENTES_32', 'n': 1000, 'phi_': 0.001, 'drift': 'Yes', 'dalpha': 5, 'T': 300, 'Unnamed: 6': nan}, {'TICKER': 'NODIVERGENTES_32', 'n': 1000, 'phi_': 1e-06, 'drift': 'No', 'dalpha': 5, 'T': 300, 'Unnamed: 6': nan}, {'TICKER': 'NODIVERGENTES_32', 'n': 1000, 'phi_': 0.001, 'drift': 'No', 'dalpha': 5, 'T': 300, 'Unnamed: 6': nan}]\n",
      "Parameters(q_max=4, T=300, A=300, dalpha=30, Delta=0.005, epsilon=0.005, psi=0.01, phi_=1e-06, eta_plus=42.0989, eta_minus=32.9145, sigma=0.01, k=425.1685, xi=1.0, lambda_plus=1, lambda_minus=1, theta=4.3552, s0=100, n=1000, drift='Yes', TICKER='NODIVERGENTES_6', Unnamed: 6=nan)\n",
      "Calculating h\n",
      "Starting h calculation\n",
      "0.00023509024984085696\n",
      "1276105\n",
      "Starting to calculate h\n",
      "Finished calculating h- 0.0 h                          02e-07 h                          \n",
      "Amount of simulations: 500\n",
      "Mean of PNL:2.2016199999997443967746312e-06 h                           \n",
      "Stde of PNL:1.3762876427556434\n"
     ]
    },
    {
     "ename": "",
     "evalue": "",
     "output_type": "error",
     "traceback": [
      "\u001b[1;31mCannot execute code, session has been disposed. Please try restarting the Kernel."
     ]
    },
    {
     "ename": "",
     "evalue": "",
     "output_type": "error",
     "traceback": [
      "\u001b[1;31mThe Kernel crashed while executing code in the the current cell or a previous cell. Please review the code in the cell(s) to identify a possible cause of the failure. Click <a href='https://aka.ms/vscodeJupyterKernelCrash'>here</a> for more info. View Jupyter <a href='command:jupyter.viewOutput'>log</a> for further details."
     ]
    }
   ],
   "source": [
    "from simulations import generate_simulations_bunchs\n",
    "from parameters import load_parameters_from_excel, load_simulation_parameters_from_excel\n",
    "import pandas as pd\n",
    "import numpy as np\n",
    "\n",
    "\n",
    "simulations_file_name = \"Simulations_Brazil.xlsx\"\n",
    "simulation_params = load_simulation_parameters_from_excel(path=\"./\", file_name=simulations_file_name)\n",
    "print(simulation_params)\n",
    "i=0\n",
    "for params in simulation_params:\n",
    "    p = load_parameters_from_excel(params['TICKER'], path=\"./\", file_name=\"parameters_brazil.xlsx\")\n",
    "    p.__dict__.update(params)\n",
    "    print(p)\n",
    "    results = generate_simulations_bunchs(p)\n",
    "    p.__dict__[\"pnl\"] = np.average(results['pnl'][:,-1])\n",
    "    p.__dict__[\"std\"] = np.std(results['pnl'][:,-1])\n",
    "    results_file_name = \"Results_\" + simulations_file_name\n",
    "    try:\n",
    "        df = pd.read_excel(results_file_name)\n",
    "    except:\n",
    "        df = pd.DataFrame()\n",
    "    df = pd.concat([df, pd.DataFrame([p.__dict__])]).set_index('TICKER')\n",
    "    df.to_excel(results_file_name)\n"
   ]
  }
 ],
 "metadata": {
  "kernelspec": {
   "display_name": "marketmaking",
   "language": "python",
   "name": "python3"
  },
  "language_info": {
   "codemirror_mode": {
    "name": "ipython",
    "version": 3
   },
   "file_extension": ".py",
   "mimetype": "text/x-python",
   "name": "python",
   "nbconvert_exporter": "python",
   "pygments_lexer": "ipython3",
   "version": "3.11.5"
  },
  "orig_nbformat": 4
 },
 "nbformat": 4,
 "nbformat_minor": 2
}
