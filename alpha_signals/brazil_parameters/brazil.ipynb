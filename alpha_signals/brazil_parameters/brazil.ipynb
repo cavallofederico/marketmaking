{
 "cells": [
  {
   "cell_type": "markdown",
   "metadata": {},
   "source": [
    "# Read Brazil parameters"
   ]
  },
  {
   "cell_type": "code",
   "execution_count": 1,
   "metadata": {},
   "outputs": [],
   "source": [
    "from reader import MDProcessor\n",
    "md = MDProcessor(\n",
    "    date=\"20230731\",\n",
    "    base_path=\"/Users/federico/Downloads/week5/\",\n",
    "    start=\"2023-07-31 12:00:00\",\n",
    "    end=\"2023-07-31 21:02:00\")"
   ]
  },
  {
   "cell_type": "code",
   "execution_count": 2,
   "metadata": {},
   "outputs": [
    {
     "name": "stdout",
     "output_type": "stream",
     "text": [
      "/Users/federico/Downloads/week5/20230731/trades-20230731-WINQ23-16.pbz2\n",
      "/Users/federico/Downloads/week5/20230731/trades-20230731-WINQ23-4.pbz2\n",
      "/Users/federico/Downloads/week5/20230731/trades-20230731-WINQ23-8.pbz2\n",
      "/Users/federico/Downloads/week5/20230731/trades-20230731-WINQ23-9.pbz2\n",
      "/Users/federico/Downloads/week5/20230731/trades-20230731-WINQ23-5.pbz2\n",
      "/Users/federico/Downloads/week5/20230731/trades-20230731-WINQ23-17.pbz2\n",
      "/Users/federico/Downloads/week5/20230731/trades-20230731-WINQ23-10.pbz2\n",
      "/Users/federico/Downloads/week5/20230731/trades-20230731-WINQ23-2.pbz2\n",
      "/Users/federico/Downloads/week5/20230731/trades-20230731-WINQ23-3.pbz2\n",
      "/Users/federico/Downloads/week5/20230731/trades-20230731-WINQ23-11.pbz2\n",
      "/Users/federico/Downloads/week5/20230731/trades-20230731-WINQ23-12.pbz2\n",
      "/Users/federico/Downloads/week5/20230731/trades-20230731-WINQ23-13.pbz2\n",
      "/Users/federico/Downloads/week5/20230731/trades-20230731-WINQ23-1.pbz2\n",
      "/Users/federico/Downloads/week5/20230731/trades-20230731-WINQ23-6.pbz2\n",
      "/Users/federico/Downloads/week5/20230731/trades-20230731-WINQ23-14.pbz2\n",
      "/Users/federico/Downloads/week5/20230731/trades-20230731-WINQ23-15.pbz2\n",
      "/Users/federico/Downloads/week5/20230731/trades-20230731-WINQ23-7.pbz2 /Users/federico/Downloads/week5/20230731/trades*\n",
      "loading 1/17\n",
      "loading 2/17\n",
      "loading 3/17\n",
      "loading 4/17\n",
      "loading 5/17\n",
      "loading 6/17\n",
      "loading 7/17\n",
      "loading 8/17\n",
      "loading 9/17\n",
      "loading 10/17\n",
      "loading 11/17\n",
      "loading 12/17\n",
      "loading 13/17\n",
      "loading 14/17\n",
      "loading 15/17\n",
      "loading 16/17\n",
      "loading 17/17\n",
      "Index(['feed', 'product', 'dt', 'receipttimestamp', 'price', 'quantity'], dtype='object')\n",
      "setting index\n",
      "sorting\n",
      "getting date column\n",
      "getting time column\n",
      "done\n",
      "DatetimeIndex(['2023-07-31 12:00:38.910741016',\n",
      "               '2023-07-31 12:00:38.910741016',\n",
      "               '2023-07-31 12:00:38.910741016',\n",
      "               '2023-07-31 12:00:38.910741016',\n",
      "               '2023-07-31 12:00:38.910741016',\n",
      "               '2023-07-31 12:00:38.910741016',\n",
      "               '2023-07-31 12:00:38.910741016',\n",
      "               '2023-07-31 12:00:38.910741016',\n",
      "               '2023-07-31 12:00:38.910741016',\n",
      "               '2023-07-31 12:00:38.910741016',\n",
      "               ...\n",
      "               '2023-07-31 21:01:25.598605252',\n",
      "               '2023-07-31 21:01:25.598605252',\n",
      "               '2023-07-31 21:01:25.598605252',\n",
      "               '2023-07-31 21:01:25.598605252',\n",
      "               '2023-07-31 21:01:25.598605252',\n",
      "               '2023-07-31 21:01:25.598605252',\n",
      "               '2023-07-31 21:01:25.598605252',\n",
      "               '2023-07-31 21:01:25.598605252',\n",
      "               '2023-07-31 21:01:25.598605252',\n",
      "               '2023-07-31 21:01:25.598605252'],\n",
      "              dtype='datetime64[ns]', name='timestamp', length=4137386, freq=None)\n"
     ]
    },
    {
     "ename": "TypeError",
     "evalue": "Invalid comparison between dtype=datetime64[ns] and int",
     "output_type": "error",
     "traceback": [
      "\u001b[0;31m---------------------------------------------------------------------------\u001b[0m",
      "\u001b[0;31mInvalidComparison\u001b[0m                         Traceback (most recent call last)",
      "File \u001b[0;32m~/miniconda3/envs/marketmaking/lib/python3.11/site-packages/pandas/core/arrays/datetimelike.py:941\u001b[0m, in \u001b[0;36mDatetimeLikeArrayMixin._cmp_method\u001b[0;34m(self, other, op)\u001b[0m\n\u001b[1;32m    940\u001b[0m \u001b[39mtry\u001b[39;00m:\n\u001b[0;32m--> 941\u001b[0m     other \u001b[39m=\u001b[39m \u001b[39mself\u001b[39;49m\u001b[39m.\u001b[39;49m_validate_comparison_value(other)\n\u001b[1;32m    942\u001b[0m \u001b[39mexcept\u001b[39;00m InvalidComparison:\n",
      "File \u001b[0;32m~/miniconda3/envs/marketmaking/lib/python3.11/site-packages/pandas/core/arrays/datetimelike.py:537\u001b[0m, in \u001b[0;36mDatetimeLikeArrayMixin._validate_comparison_value\u001b[0;34m(self, other)\u001b[0m\n\u001b[1;32m    536\u001b[0m \u001b[39melif\u001b[39;00m \u001b[39mnot\u001b[39;00m is_list_like(other):\n\u001b[0;32m--> 537\u001b[0m     \u001b[39mraise\u001b[39;00m InvalidComparison(other)\n\u001b[1;32m    539\u001b[0m \u001b[39melif\u001b[39;00m \u001b[39mlen\u001b[39m(other) \u001b[39m!=\u001b[39m \u001b[39mlen\u001b[39m(\u001b[39mself\u001b[39m):\n",
      "\u001b[0;31mInvalidComparison\u001b[0m: 0",
      "\nDuring handling of the above exception, another exception occurred:\n",
      "\u001b[0;31mTypeError\u001b[0m                                 Traceback (most recent call last)",
      "\u001b[1;32m/Users/federico/Repos/marketmaking/alpha_signals/brazil_parameters/brazil.ipynb Cell 3\u001b[0m line \u001b[0;36m1\n\u001b[0;32m----> <a href='vscode-notebook-cell:/Users/federico/Repos/marketmaking/alpha_signals/brazil_parameters/brazil.ipynb#W4sZmlsZQ%3D%3D?line=0'>1</a>\u001b[0m md\u001b[39m.\u001b[39;49mget_trades()\n",
      "File \u001b[0;32m~/Repos/marketmaking/alpha_signals/brazil_parameters/reader.py:126\u001b[0m, in \u001b[0;36mMDProcessor.get_trades\u001b[0;34m(self)\u001b[0m\n\u001b[1;32m    124\u001b[0m \u001b[39mprint\u001b[39m(\u001b[39m\"\u001b[39m\u001b[39mdone\u001b[39m\u001b[39m\"\u001b[39m)\n\u001b[1;32m    125\u001b[0m \u001b[39mprint\u001b[39m(consolidated\u001b[39m.\u001b[39mindex)\n\u001b[0;32m--> 126\u001b[0m \u001b[39mreturn\u001b[39;00m consolidated[(consolidated\u001b[39m.\u001b[39;49mindex \u001b[39m>\u001b[39;49m \u001b[39mself\u001b[39;49m\u001b[39m.\u001b[39;49m_start) \u001b[39m&\u001b[39m (consolidated\u001b[39m.\u001b[39mindex \u001b[39m<\u001b[39m \u001b[39mself\u001b[39m\u001b[39m.\u001b[39m_end)]\n",
      "File \u001b[0;32m~/miniconda3/envs/marketmaking/lib/python3.11/site-packages/pandas/core/ops/common.py:76\u001b[0m, in \u001b[0;36m_unpack_zerodim_and_defer.<locals>.new_method\u001b[0;34m(self, other)\u001b[0m\n\u001b[1;32m     72\u001b[0m             \u001b[39mreturn\u001b[39;00m \u001b[39mNotImplemented\u001b[39m\n\u001b[1;32m     74\u001b[0m other \u001b[39m=\u001b[39m item_from_zerodim(other)\n\u001b[0;32m---> 76\u001b[0m \u001b[39mreturn\u001b[39;00m method(\u001b[39mself\u001b[39;49m, other)\n",
      "File \u001b[0;32m~/miniconda3/envs/marketmaking/lib/python3.11/site-packages/pandas/core/arraylike.py:56\u001b[0m, in \u001b[0;36mOpsMixin.__gt__\u001b[0;34m(self, other)\u001b[0m\n\u001b[1;32m     54\u001b[0m \u001b[39m@unpack_zerodim_and_defer\u001b[39m(\u001b[39m\"\u001b[39m\u001b[39m__gt__\u001b[39m\u001b[39m\"\u001b[39m)\n\u001b[1;32m     55\u001b[0m \u001b[39mdef\u001b[39;00m \u001b[39m__gt__\u001b[39m(\u001b[39mself\u001b[39m, other):\n\u001b[0;32m---> 56\u001b[0m     \u001b[39mreturn\u001b[39;00m \u001b[39mself\u001b[39;49m\u001b[39m.\u001b[39;49m_cmp_method(other, operator\u001b[39m.\u001b[39;49mgt)\n",
      "File \u001b[0;32m~/miniconda3/envs/marketmaking/lib/python3.11/site-packages/pandas/core/indexes/base.py:7116\u001b[0m, in \u001b[0;36mIndex._cmp_method\u001b[0;34m(self, other, op)\u001b[0m\n\u001b[1;32m   7113\u001b[0m     result \u001b[39m=\u001b[39m op(\u001b[39mself\u001b[39m\u001b[39m.\u001b[39m_values, other)\n\u001b[1;32m   7115\u001b[0m \u001b[39melif\u001b[39;00m \u001b[39misinstance\u001b[39m(\u001b[39mself\u001b[39m\u001b[39m.\u001b[39m_values, ExtensionArray):\n\u001b[0;32m-> 7116\u001b[0m     result \u001b[39m=\u001b[39m op(\u001b[39mself\u001b[39;49m\u001b[39m.\u001b[39;49m_values, other)\n\u001b[1;32m   7118\u001b[0m \u001b[39melif\u001b[39;00m is_object_dtype(\u001b[39mself\u001b[39m\u001b[39m.\u001b[39mdtype) \u001b[39mand\u001b[39;00m \u001b[39mnot\u001b[39;00m \u001b[39misinstance\u001b[39m(\u001b[39mself\u001b[39m, ABCMultiIndex):\n\u001b[1;32m   7119\u001b[0m     \u001b[39m# don't pass MultiIndex\u001b[39;00m\n\u001b[1;32m   7120\u001b[0m     result \u001b[39m=\u001b[39m ops\u001b[39m.\u001b[39mcomp_method_OBJECT_ARRAY(op, \u001b[39mself\u001b[39m\u001b[39m.\u001b[39m_values, other)\n",
      "File \u001b[0;32m~/miniconda3/envs/marketmaking/lib/python3.11/site-packages/pandas/core/ops/common.py:76\u001b[0m, in \u001b[0;36m_unpack_zerodim_and_defer.<locals>.new_method\u001b[0;34m(self, other)\u001b[0m\n\u001b[1;32m     72\u001b[0m             \u001b[39mreturn\u001b[39;00m \u001b[39mNotImplemented\u001b[39m\n\u001b[1;32m     74\u001b[0m other \u001b[39m=\u001b[39m item_from_zerodim(other)\n\u001b[0;32m---> 76\u001b[0m \u001b[39mreturn\u001b[39;00m method(\u001b[39mself\u001b[39;49m, other)\n",
      "File \u001b[0;32m~/miniconda3/envs/marketmaking/lib/python3.11/site-packages/pandas/core/arraylike.py:56\u001b[0m, in \u001b[0;36mOpsMixin.__gt__\u001b[0;34m(self, other)\u001b[0m\n\u001b[1;32m     54\u001b[0m \u001b[39m@unpack_zerodim_and_defer\u001b[39m(\u001b[39m\"\u001b[39m\u001b[39m__gt__\u001b[39m\u001b[39m\"\u001b[39m)\n\u001b[1;32m     55\u001b[0m \u001b[39mdef\u001b[39;00m \u001b[39m__gt__\u001b[39m(\u001b[39mself\u001b[39m, other):\n\u001b[0;32m---> 56\u001b[0m     \u001b[39mreturn\u001b[39;00m \u001b[39mself\u001b[39;49m\u001b[39m.\u001b[39;49m_cmp_method(other, operator\u001b[39m.\u001b[39;49mgt)\n",
      "File \u001b[0;32m~/miniconda3/envs/marketmaking/lib/python3.11/site-packages/pandas/core/arrays/datetimelike.py:943\u001b[0m, in \u001b[0;36mDatetimeLikeArrayMixin._cmp_method\u001b[0;34m(self, other, op)\u001b[0m\n\u001b[1;32m    941\u001b[0m     other \u001b[39m=\u001b[39m \u001b[39mself\u001b[39m\u001b[39m.\u001b[39m_validate_comparison_value(other)\n\u001b[1;32m    942\u001b[0m \u001b[39mexcept\u001b[39;00m InvalidComparison:\n\u001b[0;32m--> 943\u001b[0m     \u001b[39mreturn\u001b[39;00m invalid_comparison(\u001b[39mself\u001b[39;49m, other, op)\n\u001b[1;32m    945\u001b[0m dtype \u001b[39m=\u001b[39m \u001b[39mgetattr\u001b[39m(other, \u001b[39m\"\u001b[39m\u001b[39mdtype\u001b[39m\u001b[39m\"\u001b[39m, \u001b[39mNone\u001b[39;00m)\n\u001b[1;32m    946\u001b[0m \u001b[39mif\u001b[39;00m is_object_dtype(dtype):\n\u001b[1;32m    947\u001b[0m     \u001b[39m# We have to use comp_method_OBJECT_ARRAY instead of numpy\u001b[39;00m\n\u001b[1;32m    948\u001b[0m     \u001b[39m#  comparison otherwise it would raise when comparing to None\u001b[39;00m\n",
      "File \u001b[0;32m~/miniconda3/envs/marketmaking/lib/python3.11/site-packages/pandas/core/ops/invalid.py:40\u001b[0m, in \u001b[0;36minvalid_comparison\u001b[0;34m(left, right, op)\u001b[0m\n\u001b[1;32m     38\u001b[0m \u001b[39melse\u001b[39;00m:\n\u001b[1;32m     39\u001b[0m     typ \u001b[39m=\u001b[39m \u001b[39mtype\u001b[39m(right)\u001b[39m.\u001b[39m\u001b[39m__name__\u001b[39m\n\u001b[0;32m---> 40\u001b[0m     \u001b[39mraise\u001b[39;00m \u001b[39mTypeError\u001b[39;00m(\u001b[39mf\u001b[39m\u001b[39m\"\u001b[39m\u001b[39mInvalid comparison between dtype=\u001b[39m\u001b[39m{\u001b[39;00mleft\u001b[39m.\u001b[39mdtype\u001b[39m}\u001b[39;00m\u001b[39m and \u001b[39m\u001b[39m{\u001b[39;00mtyp\u001b[39m}\u001b[39;00m\u001b[39m\"\u001b[39m)\n\u001b[1;32m     41\u001b[0m \u001b[39mreturn\u001b[39;00m res_values\n",
      "\u001b[0;31mTypeError\u001b[0m: Invalid comparison between dtype=datetime64[ns] and int"
     ]
    }
   ],
   "source": [
    "md.get_trades()\n"
   ]
  }
 ],
 "metadata": {
  "kernelspec": {
   "display_name": "marketmaking",
   "language": "python",
   "name": "python3"
  },
  "language_info": {
   "codemirror_mode": {
    "name": "ipython",
    "version": 3
   },
   "file_extension": ".py",
   "mimetype": "text/x-python",
   "name": "python",
   "nbconvert_exporter": "python",
   "pygments_lexer": "ipython3",
   "version": "3.11.5"
  },
  "orig_nbformat": 4
 },
 "nbformat": 4,
 "nbformat_minor": 2
}
