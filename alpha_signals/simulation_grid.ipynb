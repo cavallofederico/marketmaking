{
 "cells": [
  {
   "cell_type": "markdown",
   "metadata": {},
   "source": [
    "# Simulations"
   ]
  },
  {
   "cell_type": "code",
   "execution_count": 2,
   "metadata": {},
   "outputs": [
    {
     "name": "stdout",
     "output_type": "stream",
     "text": [
      "[{'TICKER': 'ORCL', 'n': 1000, 'phi_': 0.0001, 'drift': 'Yes', 'dalpha': 5, 'T': 300}, {'TICKER': 'PYPL', 'n': 1000, 'phi_': 1e-06, 'drift': 'Yes', 'dalpha': 5, 'T': 300}, {'TICKER': 'PYPL', 'n': 1000, 'phi_': 0.0001, 'drift': 'Yes', 'dalpha': 5, 'T': 300}, {'TICKER': 'QCOM', 'n': 1000, 'phi_': 1e-06, 'drift': 'Yes', 'dalpha': 5, 'T': 300}, {'TICKER': 'QCOM', 'n': 1000, 'phi_': 0.0001, 'drift': 'Yes', 'dalpha': 5, 'T': 300}, {'TICKER': 'VRTX', 'n': 1000, 'phi_': 1e-06, 'drift': 'Yes', 'dalpha': 5, 'T': 300}, {'TICKER': 'VRTX', 'n': 1000, 'phi_': 0.0001, 'drift': 'Yes', 'dalpha': 5, 'T': 300}, {'TICKER': 'CSCO', 'n': 1000, 'phi_': 1e-06, 'drift': 'No', 'dalpha': 5, 'T': 300}, {'TICKER': 'CSCO', 'n': 1000, 'phi_': 0.0001, 'drift': 'No', 'dalpha': 5, 'T': 300}, {'TICKER': 'EBAY', 'n': 1000, 'phi_': 1e-06, 'drift': 'No', 'dalpha': 5, 'T': 300}, {'TICKER': 'EBAY', 'n': 1000, 'phi_': 0.0001, 'drift': 'No', 'dalpha': 5, 'T': 300}, {'TICKER': 'EXPE', 'n': 1000, 'phi_': 1e-06, 'drift': 'No', 'dalpha': 5, 'T': 300}, {'TICKER': 'EXPE', 'n': 1000, 'phi_': 0.0001, 'drift': 'No', 'dalpha': 5, 'T': 300}, {'TICKER': 'GILD', 'n': 1000, 'phi_': 1e-06, 'drift': 'No', 'dalpha': 5, 'T': 300}, {'TICKER': 'GILD', 'n': 1000, 'phi_': 0.0001, 'drift': 'No', 'dalpha': 5, 'T': 300}, {'TICKER': 'MSFT', 'n': 1000, 'phi_': 1e-06, 'drift': 'No', 'dalpha': 5, 'T': 300}, {'TICKER': 'MSFT', 'n': 1000, 'phi_': 0.0001, 'drift': 'No', 'dalpha': 5, 'T': 300}, {'TICKER': 'ORCL', 'n': 1000, 'phi_': 1e-06, 'drift': 'No', 'dalpha': 5, 'T': 300}, {'TICKER': 'ORCL', 'n': 1000, 'phi_': 0.0001, 'drift': 'No', 'dalpha': 5, 'T': 300}, {'TICKER': 'PYPL', 'n': 1000, 'phi_': 1e-06, 'drift': 'No', 'dalpha': 5, 'T': 300}, {'TICKER': 'PYPL', 'n': 1000, 'phi_': 0.0001, 'drift': 'No', 'dalpha': 5, 'T': 300}, {'TICKER': 'QCOM', 'n': 1000, 'phi_': 1e-06, 'drift': 'No', 'dalpha': 5, 'T': 300}, {'TICKER': 'QCOM', 'n': 1000, 'phi_': 0.0001, 'drift': 'No', 'dalpha': 5, 'T': 300}, {'TICKER': 'VRTX', 'n': 1000, 'phi_': 1e-06, 'drift': 'No', 'dalpha': 5, 'T': 300}, {'TICKER': 'VRTX', 'n': 1000, 'phi_': 0.0001, 'drift': 'No', 'dalpha': 5, 'T': 300}, {'TICKER': 'CSCO', 'n': 1000, 'phi_': 1e-06, 'drift': 'Yes', 'dalpha': 10, 'T': 300}, {'TICKER': 'CSCO', 'n': 1000, 'phi_': 0.0001, 'drift': 'Yes', 'dalpha': 10, 'T': 300}, {'TICKER': 'EBAY', 'n': 1000, 'phi_': 1e-06, 'drift': 'Yes', 'dalpha': 10, 'T': 300}, {'TICKER': 'EBAY', 'n': 1000, 'phi_': 0.0001, 'drift': 'Yes', 'dalpha': 10, 'T': 300}, {'TICKER': 'EXPE', 'n': 1000, 'phi_': 1e-06, 'drift': 'Yes', 'dalpha': 10, 'T': 300}, {'TICKER': 'EXPE', 'n': 1000, 'phi_': 0.0001, 'drift': 'Yes', 'dalpha': 10, 'T': 300}, {'TICKER': 'GILD', 'n': 1000, 'phi_': 1e-06, 'drift': 'Yes', 'dalpha': 10, 'T': 300}, {'TICKER': 'GILD', 'n': 1000, 'phi_': 0.0001, 'drift': 'Yes', 'dalpha': 10, 'T': 300}, {'TICKER': 'MSFT', 'n': 1000, 'phi_': 1e-06, 'drift': 'Yes', 'dalpha': 10, 'T': 300}, {'TICKER': 'MSFT', 'n': 1000, 'phi_': 0.0001, 'drift': 'Yes', 'dalpha': 10, 'T': 300}, {'TICKER': 'ORCL', 'n': 1000, 'phi_': 1e-06, 'drift': 'Yes', 'dalpha': 10, 'T': 300}, {'TICKER': 'ORCL', 'n': 1000, 'phi_': 0.0001, 'drift': 'Yes', 'dalpha': 10, 'T': 300}, {'TICKER': 'PYPL', 'n': 1000, 'phi_': 1e-06, 'drift': 'Yes', 'dalpha': 10, 'T': 300}, {'TICKER': 'PYPL', 'n': 1000, 'phi_': 0.0001, 'drift': 'Yes', 'dalpha': 10, 'T': 300}, {'TICKER': 'QCOM', 'n': 1000, 'phi_': 1e-06, 'drift': 'Yes', 'dalpha': 10, 'T': 300}, {'TICKER': 'QCOM', 'n': 1000, 'phi_': 0.0001, 'drift': 'Yes', 'dalpha': 10, 'T': 300}, {'TICKER': 'VRTX', 'n': 1000, 'phi_': 1e-06, 'drift': 'Yes', 'dalpha': 10, 'T': 300}, {'TICKER': 'VRTX', 'n': 1000, 'phi_': 0.0001, 'drift': 'Yes', 'dalpha': 10, 'T': 300}, {'TICKER': 'CSCO', 'n': 1000, 'phi_': 1e-06, 'drift': 'No', 'dalpha': 10, 'T': 300}, {'TICKER': 'CSCO', 'n': 1000, 'phi_': 0.0001, 'drift': 'No', 'dalpha': 10, 'T': 300}, {'TICKER': 'EBAY', 'n': 1000, 'phi_': 1e-06, 'drift': 'No', 'dalpha': 10, 'T': 300}, {'TICKER': 'EBAY', 'n': 1000, 'phi_': 0.0001, 'drift': 'No', 'dalpha': 10, 'T': 300}, {'TICKER': 'EXPE', 'n': 1000, 'phi_': 1e-06, 'drift': 'No', 'dalpha': 10, 'T': 300}, {'TICKER': 'EXPE', 'n': 1000, 'phi_': 0.0001, 'drift': 'No', 'dalpha': 10, 'T': 300}, {'TICKER': 'GILD', 'n': 1000, 'phi_': 1e-06, 'drift': 'No', 'dalpha': 10, 'T': 300}, {'TICKER': 'GILD', 'n': 1000, 'phi_': 0.0001, 'drift': 'No', 'dalpha': 10, 'T': 300}, {'TICKER': 'MSFT', 'n': 1000, 'phi_': 1e-06, 'drift': 'No', 'dalpha': 10, 'T': 300}, {'TICKER': 'MSFT', 'n': 1000, 'phi_': 0.0001, 'drift': 'No', 'dalpha': 10, 'T': 300}, {'TICKER': 'ORCL', 'n': 1000, 'phi_': 1e-06, 'drift': 'No', 'dalpha': 10, 'T': 300}, {'TICKER': 'ORCL', 'n': 1000, 'phi_': 0.0001, 'drift': 'No', 'dalpha': 10, 'T': 300}, {'TICKER': 'PYPL', 'n': 1000, 'phi_': 1e-06, 'drift': 'No', 'dalpha': 10, 'T': 300}, {'TICKER': 'PYPL', 'n': 1000, 'phi_': 0.0001, 'drift': 'No', 'dalpha': 10, 'T': 300}, {'TICKER': 'QCOM', 'n': 1000, 'phi_': 1e-06, 'drift': 'No', 'dalpha': 10, 'T': 300}, {'TICKER': 'QCOM', 'n': 1000, 'phi_': 0.0001, 'drift': 'No', 'dalpha': 10, 'T': 300}, {'TICKER': 'VRTX', 'n': 1000, 'phi_': 1e-06, 'drift': 'No', 'dalpha': 10, 'T': 300}, {'TICKER': 'VRTX', 'n': 1000, 'phi_': 0.0001, 'drift': 'No', 'dalpha': 10, 'T': 300}]\n",
      "Parameters(q_max=4, T=300, A=300, dalpha=5, Delta=0.005, epsilon=0.005, psi=0.01, phi_=1e-06, eta_plus=99.563, eta_minus=45.152, sigma=0.01, k=87.39, xi=1.0, lambda_plus=0.055, lambda_minus=0.051, theta=0.177, s0=100, n=1000, TICKER='VRTX', drift='Yes')\n",
      "Calculating h\n",
      "Starting h calculation\n",
      "0.00019071136483351085\n",
      "1573057\n",
      "Starting to calculate h\n",
      "Finished calculating h- 0.0 h                          28e-07 h                          \n"
     ]
    },
    {
     "ename": "",
     "evalue": "",
     "output_type": "error",
     "traceback": [
      "\u001b[1;31mThe Kernel crashed while executing code in the the current cell or a previous cell. Please review the code in the cell(s) to identify a possible cause of the failure. Click <a href='https://aka.ms/vscodeJupyterKernelCrash'>here</a> for more info. View Jupyter <a href='command:jupyter.viewOutput'>log</a> for further details."
     ]
    }
   ],
   "source": [
    "from simulations import generate_simulations_bunchs\n",
    "from parameters import load_parameters_from_excel, load_simulation_parameters_from_excel\n",
    "import pandas as pd\n",
    "import numpy as np\n",
    "\n",
    "\n",
    "simulations_file_name = \"Simulations_2.xlsx\"\n",
    "simulation_params = load_simulation_parameters_from_excel(file_name=simulations_file_name)\n",
    "print(simulation_params)\n",
    "i=0\n",
    "for params in simulation_params:\n",
    "    if i<5:\n",
    "        i += 1\n",
    "        continue\n",
    "    p = load_parameters_from_excel(params['TICKER'])\n",
    "    p.__dict__.update(params)\n",
    "    print(p)\n",
    "    results = generate_simulations_bunchs(p)\n",
    "    p.__dict__[\"pnl\"] = np.average(results['pnl'][:,-1])\n",
    "    p.__dict__[\"std\"] = np.std(results['pnl'][:,-1])\n",
    "    results_file_name = \"Results_\" + simulations_file_name\n",
    "    try:\n",
    "        df = pd.read_excel(results_file_name)\n",
    "    except:\n",
    "        df = pd.DataFrame()\n",
    "    df = pd.concat([df, pd.DataFrame([p.__dict__])]).set_index('TICKER')\n",
    "    df.to_excel(results_file_name)\n"
   ]
  }
 ],
 "metadata": {
  "kernelspec": {
   "display_name": "marketmaking",
   "language": "python",
   "name": "python3"
  },
  "language_info": {
   "codemirror_mode": {
    "name": "ipython",
    "version": 3
   },
   "file_extension": ".py",
   "mimetype": "text/x-python",
   "name": "python",
   "nbconvert_exporter": "python",
   "pygments_lexer": "ipython3",
   "version": "3.11.5"
  },
  "orig_nbformat": 4
 },
 "nbformat": 4,
 "nbformat_minor": 2
}
