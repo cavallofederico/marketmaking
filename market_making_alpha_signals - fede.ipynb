{
 "cells": [
  {
   "cell_type": "markdown",
   "metadata": {},
   "source": [
    "# Pure Jump Process"
   ]
  },
  {
   "cell_type": "code",
   "execution_count": 13,
   "metadata": {},
   "outputs": [],
   "source": [
    "import numpy as np\n",
    "from matplotlib import pyplot as plt"
   ]
  },
  {
   "cell_type": "code",
   "execution_count": 18,
   "metadata": {},
   "outputs": [
    {
     "name": "stdout",
     "output_type": "stream",
     "text": [
      "117\n",
      "[0 0 0 0 0 1 1 1 1 0 0 1 1 1 0 1 0 1 0 1 1 1 0 0 0 0 0 0 1 1 0 0 1 1 0 0 1\n",
      " 0 1 1 1 0 0 1 1 0 0 0 0 1 1 0 1 1 0 1 1 1 0 0 0 1 0 1 0 0 1 0 1 1 1 0 0 1\n",
      " 1 1 1 0 0 1 1 1 1 1 1 0 0 1 1 1 1 0 1 0 0 0 1 0 1 1 0 0 0 0 1 0 1 1 1 1 1\n",
      " 0 1 1 0 0 1]\n",
      "[-1 -1 -1 -1 -1  1  1  1  1 -1 -1  1  1  1 -1  1 -1  1 -1  1  1  1 -1 -1\n",
      " -1 -1 -1 -1  1  1 -1 -1  1  1 -1 -1  1 -1  1  1  1 -1 -1  1  1 -1 -1 -1\n",
      " -1  1  1 -1  1  1 -1  1  1  1 -1 -1 -1  1 -1  1 -1 -1  1 -1  1  1  1 -1\n",
      " -1  1  1  1  1 -1 -1  1  1  1  1  1  1 -1 -1  1  1  1  1 -1  1 -1 -1 -1\n",
      "  1 -1  1  1 -1 -1 -1 -1  1 -1  1  1  1  1  1 -1  1  1 -1 -1  1]\n"
     ]
    },
    {
     "data": {
      "text/plain": [
       "(array([47., 28., 17.,  7.,  6.,  2.,  4.,  0.,  1.,  4.]),\n",
       " array([1.34368354e-03, 2.51790198e-01, 5.02236712e-01, 7.52683226e-01,\n",
       "        1.00312974e+00, 1.25357625e+00, 1.50402277e+00, 1.75446928e+00,\n",
       "        2.00491580e+00, 2.25536231e+00, 2.50580882e+00]),\n",
       " <BarContainer object of 10 artists>)"
      ]
     },
     "execution_count": 18,
     "metadata": {},
     "output_type": "execute_result"
    },
    {
     "data": {
      "image/png": "[encoded data removed]",
      "text/plain": [
       "<Figure size 432x288 with 1 Axes>"
      ]
     },
     "metadata": {
      "needs_background": "light"
     },
     "output_type": "display_data"
    }
   ],
   "source": [
    "T=60\n",
    "np.random.seed(1)\n",
    "lambda_ = (1., 1.)\n",
    "sigma = 1\n",
    "number_of_market_orders=np.random.poisson(sum(lambda_) * T)\n",
    "print(number_of_market_orders)\n",
    "times = np.sort(np.random.uniform(size=number_of_market_orders)*T)\n",
    "#print(times)\n",
    "markers = np.random.binomial(n=1, p=lambda_[1] / sum(lambda_), size=number_of_market_orders)\n",
    "jumps = np.where(markers == 0, -1, 1)\n",
    "print(markers)\n",
    "print(jumps)\n",
    "s = sigma * np.cumsum(jumps)\n",
    "plt.hist(np.diff(times))\n"
   ]
  },
  {
   "cell_type": "code",
   "execution_count": 20,
   "metadata": {},
   "outputs": [
    {
     "data": {
      "text/plain": [
       "[<matplotlib.lines.Line2D at 0x24acb36dd48>]"
      ]
     },
     "execution_count": 20,
     "metadata": {},
     "output_type": "execute_result"
    },
    {
     "data": {
      "image/png": "[encoded data removed]",
      "text/plain": [
       "<Figure size 432x288 with 1 Axes>"
      ]
     },
     "metadata": {
      "needs_background": "light"
     },
     "output_type": "display_data"
    }
   ],
   "source": [
    "plt.step(times, s)"
   ]
  },
  {
   "cell_type": "markdown",
   "metadata": {},
   "source": [
    "# dAlpha as of Market Making with Alpha Signals"
   ]
  },
  {
   "cell_type": "code",
   "execution_count": null,
   "metadata": {},
   "outputs": [],
   "source": [
    "k = 1\n",
    "nu_plus = 1\n",
    "nu_minus = 1\n",
    "T=10\n",
    "psi = 1\n",
    "mu_w = 0\n",
    "sigma_w = 1\n",
    "alpha = np.zeros(T)\n",
    "dMt0_plus\n",
    "dMt_plus\n",
    "dMt0_plus\n",
    "dMt_plus\n",
    "d_alpha[1] = -k*alpha[0] + np.randn(mu_w, sigma_w) + nu_plus *(dMt0_plus + dMt_plus) + nu_minus * (dMt0_plus + dMt_plus)"
   ]
  }
 ],
 "metadata": {
  "kernelspec": {
   "display_name": "Python 3.7.6 ('.venv': venv)",
   "language": "python",
   "name": "python3"
  },
  "language_info": {
   "codemirror_mode": {
    "name": "ipython",
    "version": 3
   },
   "file_extension": ".py",
   "mimetype": "text/x-python",
   "name": "python",
   "nbconvert_exporter": "python",
   "pygments_lexer": "ipython3",
   "version": "3.7.6"
  },
  "orig_nbformat": 4,
  "vscode": {
   "interpreter": {
    "hash": "e8a6dab81d9fff2b9ae223102115e7829ca4b16ccb60ed9eceb6088c7e3c6963"
   }
  }
 },
 "nbformat": 4,
 "nbformat_minor": 2
}
